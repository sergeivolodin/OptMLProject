{
 "cells": [
  {
   "cell_type": "code",
   "execution_count": 1,
   "metadata": {},
   "outputs": [],
   "source": [
    "import numpy as np\n",
    "%matplotlib inline\n",
    "from matplotlib import pyplot as plt\n",
    "import tensorflow as tf"
   ]
  },
  {
   "cell_type": "code",
   "execution_count": 2,
   "metadata": {},
   "outputs": [
    {
     "name": "stderr",
     "output_type": "stream",
     "text": [
      "Using TensorFlow backend.\n"
     ]
    },
    {
     "name": "stdout",
     "output_type": "stream",
     "text": [
      "Initialized TensorFlow\n"
     ]
    }
   ],
   "source": [
    "# for environ\n",
    "import os\n",
    "\n",
    "# only using device 0\n",
    "os.environ[\"CUDA_DEVICE_ORDER\"]=\"PCI_BUS_ID\"   # see issue #152\n",
    "#os.environ[\"CUDA_VISIBLE_DEVICES\"]=\"0\"\n",
    "\n",
    "# importing tensorflow\n",
    "import tensorflow as tf\n",
    "from keras.backend.tensorflow_backend import set_session\n",
    "\n",
    "config = tf.ConfigProto()\n",
    "config.gpu_options.per_process_gpu_memory_fraction = 0.5\n",
    "config.gpu_options.allow_growth = True\n",
    "sess = tf.Session(config=config)\n",
    "print(\"Initialized TensorFlow\")\n",
    "set_session(sess)\n",
    "\n",
    "import keras\n",
    "from keras.datasets import mnist\n",
    "from keras.models import Sequential\n",
    "from keras.layers import Dense, Dropout, Flatten\n",
    "from keras.layers import Conv2D, MaxPooling2D\n",
    "from keras import backend as K"
   ]
  },
  {
   "cell_type": "markdown",
   "metadata": {},
   "source": [
    "### Keras MNIST CNN\n",
    "Defining function f() and gradient"
   ]
  },
  {
   "cell_type": "markdown",
   "metadata": {},
   "source": [
    "For mnist and Keras, see http://keras.io/examples/mnist_cnn/"
   ]
  },
  {
   "cell_type": "code",
   "execution_count": 3,
   "metadata": {},
   "outputs": [],
   "source": [
    "def get_mnist():\n",
    "    # the data, split between train and test sets\n",
    "    (x_train, y_train), (x_test, y_test) = mnist.load_data()\n",
    "\n",
    "    if K.image_data_format() == 'channels_first':\n",
    "        x_train = x_train.reshape(x_train.shape[0], 1, img_rows, img_cols)\n",
    "        x_test = x_test.reshape(x_test.shape[0], 1, img_rows, img_cols)\n",
    "        input_shape = (1, img_rows, img_cols)\n",
    "    else:\n",
    "        x_train = x_train.reshape(x_train.shape[0], img_rows, img_cols, 1)\n",
    "        x_test = x_test.reshape(x_test.shape[0], img_rows, img_cols, 1)\n",
    "        input_shape = (img_rows, img_cols, 1)\n",
    "\n",
    "    x_train = x_train.astype('float32')\n",
    "    x_test = x_test.astype('float32')\n",
    "    x_train /= 255\n",
    "    x_test /= 255\n",
    "    print('x_train shape:', x_train.shape)\n",
    "    print(x_train.shape[0], 'train samples')\n",
    "    print(x_test.shape[0], 'test samples')\n",
    "\n",
    "    # convert class vectors to binary class matrices\n",
    "    y_train = keras.utils.to_categorical(y_train, num_classes)\n",
    "    y_test = keras.utils.to_categorical(y_test, num_classes)\n",
    "    return x_train, x_test, y_train, y_test, input_shape"
   ]
  },
  {
   "cell_type": "code",
   "execution_count": 4,
   "metadata": {},
   "outputs": [
    {
     "name": "stdout",
     "output_type": "stream",
     "text": [
      "x_train shape: (60000, 28, 28, 1)\n",
      "60000 train samples\n",
      "10000 test samples\n"
     ]
    }
   ],
   "source": [
    "batch_size = 128\n",
    "num_classes = 10\n",
    "epochs = 12\n",
    "\n",
    "# input image dimensions\n",
    "img_rows, img_cols = 28, 28\n",
    "\n",
    "x_train, x_test, y_train, y_test, input_shape = get_mnist()\n",
    "\n",
    "model = Sequential()\n",
    "model.add(Conv2D(32, kernel_size=(3, 3),\n",
    "                 activation='relu',\n",
    "                 input_shape=input_shape))\n",
    "model.add(Conv2D(64, (3, 3), activation='relu'))\n",
    "model.add(MaxPooling2D(pool_size=(2, 2)))\n",
    "model.add(Dropout(0.25))\n",
    "model.add(Flatten())\n",
    "model.add(Dense(128, activation='relu'))\n",
    "model.add(Dropout(0.5))\n",
    "model.add(Dense(num_classes, activation='softmax'))"
   ]
  },
  {
   "cell_type": "code",
   "execution_count": 5,
   "metadata": {},
   "outputs": [],
   "source": [
    "# output (correct)\n",
    "output_tensor = tf.placeholder(tf.float32, (None, 10))"
   ]
  },
  {
   "cell_type": "code",
   "execution_count": 6,
   "metadata": {},
   "outputs": [],
   "source": [
    "# defining the loss function (non-convex...)\n",
    "loss = tf.reduce_mean(keras.losses.categorical_crossentropy(output_tensor, model.output))"
   ]
  },
  {
   "cell_type": "code",
   "execution_count": 7,
   "metadata": {},
   "outputs": [],
   "source": [
    "# model parameters (x)\n",
    "weights = model.weights"
   ]
  },
  {
   "cell_type": "code",
   "execution_count": 8,
   "metadata": {},
   "outputs": [],
   "source": [
    "# loss gradient\n",
    "grads = tf.gradients(loss, weights)"
   ]
  },
  {
   "cell_type": "code",
   "execution_count": 9,
   "metadata": {},
   "outputs": [],
   "source": [
    "# classification accuracy\n",
    "accuracy = tf.reduce_mean(keras.metrics.categorical_accuracy(output_tensor, model.output))"
   ]
  },
  {
   "cell_type": "code",
   "execution_count": 10,
   "metadata": {},
   "outputs": [],
   "source": [
    "# some batch data\n",
    "x_batch = x_train[:1000]\n",
    "y_batch = y_train[:1000]"
   ]
  },
  {
   "cell_type": "markdown",
   "metadata": {},
   "source": [
    "### Frank-Wolfe (conditional gradient method)\n",
    "\n",
    "**Problem:**\n",
    "$$\n",
    "\\min\\limits_{x\\in X}f(x)\n",
    "$$\n",
    "\n",
    "**Method:** Choosing a direction $s_{t}\\in\\arg\\min\\limits_{x\\in X}\\nabla f(x_t)^T x$ (linear oracle) and taking a step $x_{t+1}=(1-\\gamma_t)x_t+\\gamma_ts_t$ for $\\gamma_t=2/(t+1)$\n",
    "\n",
    "**Motivation:** solving linear oracle might be simpler than doing a projection step.\n",
    "\n",
    "In this notebook I a neural net and apply vanilla Frank-Wolfe for it."
   ]
  },
  {
   "cell_type": "markdown",
   "metadata": {},
   "source": [
    "Define the set $X = \\{x\\in\\mathbb{R}^n\\big| \\|x\\|_p\\leq R\\}$ and $f(x)=L(x)$ for loss of a neural net $L(x)$\n",
    "\n",
    "Then for any $x$, $\\nabla f(x)$ is **calculated using TensorFlow.**\n",
    "\n",
    "**Linear oracle:** Now we need to compute $\\min\\limits_{\\|s\\|_p\\leq R}g^T s$ which gives $s(g)=-R|g|^{q/p}\\mbox{sign} g/\\|g\\|_q^{q/p}$ for $q$ s.t. $1/p+1/q=1$"
   ]
  },
  {
   "cell_type": "code",
   "execution_count": 11,
   "metadata": {},
   "outputs": [],
   "source": [
    "# set radius of the ball\n",
    "R = 0.5\n",
    "\n",
    "# norm order\n",
    "p = 3.1\n",
    "q = 1. / (1 - 1. / p)"
   ]
  },
  {
   "cell_type": "code",
   "execution_count": 12,
   "metadata": {},
   "outputs": [],
   "source": [
    "def get_p_vector_norm(list_of_tensors, order):\n",
    "    \"\"\" p-norm of a list of tensors flattened to a vector \"\"\"\n",
    "    # weights as a vector\n",
    "    weights_flattened = tf.concat([tf.reshape(w, (-1,)) for w in list_of_tensors], axis = 0)\n",
    "    \n",
    "    # p-norm of the weights (must be <= R)\n",
    "    weight_p_norm = tf.norm(weights_flattened, ord = order)\n",
    "    \n",
    "    return weight_p_norm"
   ]
  },
  {
   "cell_type": "code",
   "execution_count": 13,
   "metadata": {},
   "outputs": [],
   "source": [
    "# p-norm of weights\n",
    "weight_p_norm = get_p_vector_norm(weights, p)\n",
    "\n",
    "# gradients p-norm\n",
    "grad_p_norm = get_p_vector_norm(grads, p)\n",
    "\n",
    "# slack of constraint\n",
    "constraint_slack = R - weight_p_norm"
   ]
  },
  {
   "cell_type": "code",
   "execution_count": 14,
   "metadata": {},
   "outputs": [],
   "source": [
    "def LMO(g):\n",
    "    \"\"\" Linear oracle for a list of tensors \"\"\"\n",
    "    \n",
    "    # overall norm\n",
    "    g_q_qp_norm = get_p_vector_norm(g, q) ** (q / p)\n",
    "    \n",
    "    g_qp = [tf.abs(g0) ** (q / p) for g0 in g]\n",
    "    g_qp_signed = [tf.multiply(g_qp0, tf.sign(g0)) for g_qp0, g0 in zip(g_qp, g)]\n",
    "\n",
    "    return [-R * g_qp_signed0 / g_q_qp_norm for g_qp_signed0 in g_qp_signed]\n",
    "\n",
    "# descent from LMO\n",
    "descent_direction = LMO(grads)"
   ]
  },
  {
   "cell_type": "code",
   "execution_count": 15,
   "metadata": {},
   "outputs": [],
   "source": [
    "# FW gamma parameter\n",
    "gamma = tf.placeholder(tf.float32)"
   ]
  },
  {
   "cell_type": "code",
   "execution_count": 16,
   "metadata": {},
   "outputs": [],
   "source": [
    "# implementing FW update x = (1 - gamma_t) * x + gamma_t * s_t\n",
    "frank_wolfe_op = tf.group([w.assign((1. - gamma) * w + gamma * s)\n",
    "                           for w, s in zip(weights, descent_direction)])"
   ]
  },
  {
   "cell_type": "code",
   "execution_count": 17,
   "metadata": {},
   "outputs": [],
   "source": [
    "sess.run(tf.global_variables_initializer())"
   ]
  },
  {
   "cell_type": "code",
   "execution_count": 18,
   "metadata": {},
   "outputs": [],
   "source": [
    "# loss values\n",
    "losses = []\n",
    "\n",
    "# constraint slacks\n",
    "slacks = []\n",
    "\n",
    "# gradient norms\n",
    "gradnorms = []\n",
    "\n",
    "# accuracies\n",
    "accs = []\n",
    "\n",
    "# initial gamma\n",
    "gamma_initial = 0.5\n",
    "\n",
    "# iterations\n",
    "for t in range(100):\n",
    "    # current step\n",
    "    gamma_t = 2. * gamma_initial / (t + 2)\n",
    "    \n",
    "    # making the step\n",
    "    _, slack, w_n, g_n, l, a = sess.run([frank_wolfe_op, constraint_slack, weight_p_norm,\n",
    "                                      grad_p_norm, loss, accuracy],\n",
    "             feed_dict = {model.input: x_batch, output_tensor: y_batch, gamma: gamma_t})\n",
    "    # calculating loss\n",
    "    losses += [l]\n",
    "    slacks += [slack]\n",
    "    gradnorms += [g_n]\n",
    "    accs += [a]"
   ]
  },
  {
   "cell_type": "code",
   "execution_count": 19,
   "metadata": {},
   "outputs": [
    {
     "data": {
      "image/png": "[encoded data removed]",
      "text/plain": [
       "<Figure size 432x288 with 1 Axes>"
      ]
     },
     "metadata": {
      "needs_background": "light"
     },
     "output_type": "display_data"
    }
   ],
   "source": [
    "plt.title('Loss over iterations')\n",
    "plt.xlabel('Iterations $t$')\n",
    "plt.ylabel('$f(x_t)$')\n",
    "plt.plot(losses)\n",
    "plt.show()"
   ]
  },
  {
   "cell_type": "code",
   "execution_count": 20,
   "metadata": {},
   "outputs": [
    {
     "data": {
      "image/png": "[encoded data removed]",
      "text/plain": [
       "<Figure size 432x288 with 1 Axes>"
      ]
     },
     "metadata": {
      "needs_background": "light"
     },
     "output_type": "display_data"
    }
   ],
   "source": [
    "plt.title('Accuracy over iterations')\n",
    "plt.xlabel('Iterations $t$')\n",
    "plt.ylabel('Accuracy')\n",
    "plt.plot(accs)\n",
    "plt.show()"
   ]
  },
  {
   "cell_type": "code",
   "execution_count": 21,
   "metadata": {},
   "outputs": [
    {
     "data": {
      "image/png": "[encoded data removed]",
      "text/plain": [
       "<Figure size 432x288 with 1 Axes>"
      ]
     },
     "metadata": {
      "needs_background": "light"
     },
     "output_type": "display_data"
    }
   ],
   "source": [
    "plt.title('Constraint slack over iterations')\n",
    "plt.xlabel('Iterations $t$')\n",
    "plt.ylabel('Slack $R-||x||_p$')\n",
    "plt.plot(slacks)\n",
    "plt.show()"
   ]
  },
  {
   "cell_type": "code",
   "execution_count": 22,
   "metadata": {},
   "outputs": [
    {
     "data": {
      "image/png": "[encoded data removed]",
      "text/plain": [
       "<Figure size 432x288 with 1 Axes>"
      ]
     },
     "metadata": {
      "needs_background": "light"
     },
     "output_type": "display_data"
    }
   ],
   "source": [
    "plt.title('Gradient norms over iterations')\n",
    "plt.xlabel('Iterations $t$')\n",
    "plt.ylabel('Gradient norms $||\\\\nabla f(x_t)||$')\n",
    "plt.plot(gradnorms)\n",
    "plt.show()"
   ]
  },
  {
   "cell_type": "code",
   "execution_count": null,
   "metadata": {},
   "outputs": [],
   "source": []
  }
 ],
 "metadata": {
  "kernelspec": {
   "display_name": "Python 3",
   "language": "python",
   "name": "python3"
  },
  "language_info": {
   "codemirror_mode": {
    "name": "ipython",
    "version": 3
   },
   "file_extension": ".py",
   "mimetype": "text/x-python",
   "name": "python",
   "nbconvert_exporter": "python",
   "pygments_lexer": "ipython3",
   "version": "3.6.8"
  }
 },
 "nbformat": 4,
 "nbformat_minor": 2
}
