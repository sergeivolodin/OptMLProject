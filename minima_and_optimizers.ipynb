{
 "cells": [
  {
   "cell_type": "markdown",
   "metadata": {},
   "source": [
    "## Which minima are preferred by which optimizers?\n",
    "#### Project for OptML course at EPFL\n",
    "\n",
    "When training a neural net, the resulting stationary point $\\nabla f(x)=0$ depends on many things like initialization, optimization algorithm, batch size, learning rate and others. It was hypothesized in 1997 [1] that not all minima of a neural network are the same when it comes to generalization capabilities. In particular it was conjectured that the more a minimum is *flat*, meaning that Hessian $\\frac{\\partial f}{\\partial \\theta^2}$ eigenvalues are small, the better network generalizes. The reasoning is that a more flat minimum means that parameter perturbation would not change (spoil) the loss a lot.\n",
    "\n",
    "The problem with this approach was pointed out in [2]. It was shown that a fixed network can be reparametrized such that it has arbitrary sharpness. Therefore the function represented is the same (and having same generalization capabilities) but sharpness would be different.\n",
    "\n",
    "Current research focuses on trying to quantify sharpness in another form. For example, paper [4] visualizes the loss landscape in two random directions and proposes to normalize the weights. In [3] another idea is considered: cosine similarity between gradients on different batches is considered as a new generalization metric.\n",
    "\n",
    "The paper [5] uses another normalized sharpness metric and shows that it correlates with generalization gap well. PAC-Bayesian approach tries to quantify the difference between test and train errors using KL divergence between these distributions. The paper uses a mix between Hessian diagonal values and weight matrix norms.\n",
    "\n",
    "Paper [6] tackles the problem by estimating Hessian spectral density empirically using techniques allowing for computational feasibility for large networks.\n",
    "\n",
    "Paper [7] proposes another scale-invariant generalization metric.\n",
    "\n",
    "We note that the papers usually study the effect of different batch sizes on the generalization properties. In this project we compare the effect of **optimizer** on the sharpness metrics as well as on generalization properties.\n",
    "\n",
    "We propose to use the following datsets for our experiment:\n",
    "1. Fisher's Iris dataset (150 objects, 5 features, 3 classes)\n",
    "2. Boston Housing dataset (~500 objects, 15 features, regression)\n",
    "3. MNIST dataset (70000 objects, 28x28 features, 10 classes)\n",
    "\n",
    "We will use the following [optimizers](https://keras.io/optimizers/):\n",
    "1. (S)GD\n",
    "2. SGD with momentum\n",
    "3. AdaDelta\n",
    "\n",
    "And will vary the following parameters:\n",
    "1. Batch size\n",
    "2. Learning rate\n",
    "3. [Initialization](https://keras.io/initializers/) (Normal, Uniform, Orthogonal, LeCun, Glorot)\n",
    "\n",
    "We plan to measure the following metrics:\n",
    "1. Empirical generalization gap\n",
    "2. Hessian spectrum\n",
    "3. Proposed metric from [3]\n",
    "4. Proposed metric from [4]\n",
    "5. Proposed metric from [5]\n",
    "6. Proposed metric from [7]\n",
    "\n",
    "Our main contribution would be to **measure the effect of optimizer on minima quality**\n",
    "\n",
    "[1] Hochreiter, Sepp and Schmidhuber, Jürgen. [Flat minima](http://www.bioinf.jku.at/publications/older/3304.pdf). Neural Computation, 9(1):1–42, 1997.\n",
    "\n",
    "[2] Dinh, Laurent, et al. [Sharp minima can generalize for deep nets](https://arxiv.org/pdf/1703.04933.pdf). Proceedings of ICML-Volume 70. JMLR. org, 2017.\n",
    "\n",
    "[3] [The Generalization Mystery: Sharp vs Flat Minima](https://www.inference.vc/sharp-vs-flat-minima-are-still-a-mystery-to-me/)\n",
    "\n",
    "[4] Li H, Xu Z, Taylor G, Studer C, Goldstein T. [Visualizing the loss landscape of neural nets](https://papers.nips.cc/paper/7875-visualizing-the-loss-landscape-of-neural-nets.pdf). In NeurIPS 2018 (pp. 6391-6401).\n",
    "\n",
    "[5] Tsuzuku Y, Sato I, Sugiyama M. [Normalized Flat Minima: Exploring Scale Invariant Definition of Flat Minima for Neural Networks using PAC-Bayesian Analysis](https://arxiv.org/pdf/1901.04653.pdf). arXiv preprint arXiv:1901.04653. 2019 Jan 15.\n",
    "\n",
    "[6] Ghorbani B, Krishnan S, Xiao Y. [An Investigation into Neural Net Optimization via Hessian Eigenvalue Density](https://arxiv.org/pdf/1901.10159.pdf). arXiv preprint arXiv:1901.10159. 2019 Jan 29.\n",
    "\n",
    "[7] Rangamani A, Nguyen NH, Kumar A, Phan D, Chin SH, Tran TD. [A Scale Invariant Flatness Measure for Deep Network Minima](https://arxiv.org/pdf/1902.02434.pdf). arXiv preprint arXiv:1902.02434. 2019 Feb 6."
   ]
  },
  {
   "cell_type": "code",
   "execution_count": 1,
   "metadata": {},
   "outputs": [],
   "source": [
    "%matplotlib inline\n",
    "from matplotlib import pyplot as plt\n",
    "import numpy as np\n",
    "from tqdm import tqdm\n",
    "from IPython.display import clear_output"
   ]
  },
  {
   "cell_type": "code",
   "execution_count": 2,
   "metadata": {},
   "outputs": [],
   "source": [
    "# for environ\n",
    "import os\n",
    "\n",
    "# only using device 0\n",
    "os.environ[\"CUDA_DEVICE_ORDER\"]=\"PCI_BUS_ID\"   # see issue #152\n",
    "os.environ[\"CUDA_VISIBLE_DEVICES\"]=\"0\"\n",
    "\n",
    "# importing tensorflow\n",
    "import tensorflow as tf\n",
    "\n",
    "# import scipy\n",
    "import scipy, csv"
   ]
  },
  {
   "cell_type": "code",
   "execution_count": 3,
   "metadata": {
    "deletable": false,
    "editable": false,
    "run_control": {
     "frozen": true
    }
   },
   "outputs": [
    {
     "name": "stdout",
     "output_type": "stream",
     "text": [
      "--2019-03-07 23:02:07--  https://raw.githubusercontent.com/mwaskom/seaborn-data/master/iris.csv\n",
      "Resolving raw.githubusercontent.com (raw.githubusercontent.com)... 151.101.112.133\n",
      "Connecting to raw.githubusercontent.com (raw.githubusercontent.com)|151.101.112.133|:443... connected.\n",
      "HTTP request sent, awaiting response... 200 OK\n",
      "Length: 3858 (3.8K) [text/plain]\n",
      "Saving to: ‘iris.csv’\n",
      "\n",
      "iris.csv            100%[===================>]   3.77K  --.-KB/s    in 0s      \n",
      "\n",
      "2019-03-07 23:02:07 (111 MB/s) - ‘iris.csv’ saved [3858/3858]\n",
      "\n"
     ]
    }
   ],
   "source": [
    "!rm iris.csv\n",
    "!wget https://raw.githubusercontent.com/mwaskom/seaborn-data/master/iris.csv"
   ]
  },
  {
   "cell_type": "markdown",
   "metadata": {},
   "source": [
    "Using feedforward fully-connected neural network with input size 28^2, 5 layers (28^2-40-40-30-30-10-1), 10-dim output (classification). Using MNIST as data. Using optimizers: SGD, Adam. Plotting spectra of the hessian after convergence. Using 10 repetitions of the experiment."
   ]
  },
  {
   "cell_type": "code",
   "execution_count": 546,
   "metadata": {
    "deletable": false,
    "editable": false,
    "run_control": {
     "frozen": true
    }
   },
   "outputs": [],
   "source": [
    "# loading mnist\n",
    "(x_train, y_train), (x_test, y_test) = tf.keras.datasets.mnist.load_data()\n",
    "x_train, x_test = x_train / 255.0, x_test / 255.0"
   ]
  },
  {
   "cell_type": "code",
   "execution_count": 558,
   "metadata": {
    "deletable": false,
    "editable": false,
    "run_control": {
     "frozen": true
    }
   },
   "outputs": [
    {
     "name": "stderr",
     "output_type": "stream",
     "text": [
      "/localhome/volodin/miniconda3/envs/neuronfailure/lib/python3.6/site-packages/ipykernel_launcher.py:1: DeprecationWarning: `imresize` is deprecated!\n",
      "`imresize` is deprecated in SciPy 1.0.0, and will be removed in 1.2.0.\n",
      "Use ``skimage.transform.resize`` instead.\n",
      "  \"\"\"Entry point for launching an IPython kernel.\n"
     ]
    },
    {
     "data": {
      "text/plain": [
       "<matplotlib.image.AxesImage at 0x7fdfc474ca58>"
      ]
     },
     "execution_count": 558,
     "metadata": {},
     "output_type": "execute_result"
    },
    {
     "data": {
      "image/png": "[encoded data removed]",
      "text/plain": [
       "<Figure size 432x288 with 1 Axes>"
      ]
     },
     "metadata": {
      "needs_background": "light"
     },
     "output_type": "display_data"
    }
   ],
   "source": [
    "plt.imshow(scipy.misc.imresize(x_train[5], (14, 14)))"
   ]
  },
  {
   "cell_type": "code",
   "execution_count": 543,
   "metadata": {
    "deletable": false,
    "editable": false,
    "run_control": {
     "frozen": true
    }
   },
   "outputs": [
    {
     "data": {
      "text/plain": [
       "<matplotlib.image.AxesImage at 0x7fdfc43594a8>"
      ]
     },
     "execution_count": 543,
     "metadata": {},
     "output_type": "execute_result"
    },
    {
     "data": {
      "image/png": "[encoded data removed]",
      "text/plain": [
       "<Figure size 432x288 with 1 Axes>"
      ]
     },
     "metadata": {
      "needs_background": "light"
     },
     "output_type": "display_data"
    }
   ],
   "source": [
    "plt.imshow(x_train[9])"
   ]
  },
  {
   "cell_type": "code",
   "execution_count": 3,
   "metadata": {},
   "outputs": [],
   "source": [
    "tf.reset_default_graph()\n",
    "# allowing GPU memory growth to allocate only what we need\n",
    "config = tf.ConfigProto(log_device_placement=True)\n",
    "config.gpu_options.per_process_gpu_memory_fraction = 0.5\n",
    "config.gpu_options.allow_growth = True\n",
    "sess = tf.Session(config=config, graph = tf.get_default_graph())"
   ]
  },
  {
   "cell_type": "code",
   "execution_count": 4,
   "metadata": {},
   "outputs": [],
   "source": [
    "iris = list(csv.reader(open('iris.csv')))[1:]\n",
    "\n",
    "# The inputs are four floats: sepal length, sepal width, petal length, petal width.\n",
    "inputs  = np.array(iris)[:,:4].astype(np.float)"
   ]
  },
  {
   "cell_type": "code",
   "execution_count": 5,
   "metadata": {},
   "outputs": [],
   "source": [
    "outputs = np.array(iris)[:,4]\n",
    "# Convert the output strings to ints.\n",
    "outputs_vals, outputs_ints = np.unique(outputs, return_inverse=True)"
   ]
  },
  {
   "cell_type": "code",
   "execution_count": 6,
   "metadata": {},
   "outputs": [],
   "source": [
    "# Split the input and output data sets into training and test subsets.\n",
    "inds = np.random.permutation(len(inputs))\n",
    "train_inds, test_inds = np.array_split(inds, 2)\n",
    "x_train, y_train = inputs[train_inds], outputs_ints[train_inds]\n",
    "x_test,  y_test  = inputs[test_inds],  outputs_ints[test_inds]"
   ]
  },
  {
   "cell_type": "code",
   "execution_count": 7,
   "metadata": {},
   "outputs": [],
   "source": [
    "# input data: batch w h channels\n",
    "x = tf.placeholder(tf.float32, shape = (None, 4), name = 'input')\n",
    "\n",
    "# output labels (vector)\n",
    "y = tf.placeholder(tf.int64, shape = (None,), name = 'labels')\n",
    "\n",
    "# one-hot encoded labels\n",
    "y_one_hot = tf.one_hot(y, 3)"
   ]
  },
  {
   "cell_type": "code",
   "execution_count": 8,
   "metadata": {},
   "outputs": [],
   "source": [
    "def fc_layer(x, n, activation = tf.nn.sigmoid):\n",
    "    \"\"\" Fully connected layer for input x and output dim n \"\"\"\n",
    "    return tf.contrib.layers.fully_connected(x, n, activation_fn=activation,\n",
    "    weights_initializer=tf.initializers.lecun_normal(), weights_regularizer=None,\n",
    "    biases_initializer=tf.zeros_initializer(), biases_regularizer=None, trainable=True)"
   ]
  },
  {
   "cell_type": "code",
   "execution_count": 9,
   "metadata": {},
   "outputs": [
    {
     "name": "stdout",
     "output_type": "stream",
     "text": [
      "\n",
      "WARNING: The TensorFlow contrib module will not be included in TensorFlow 2.0.\n",
      "For more information, please see:\n",
      "  * https://github.com/tensorflow/community/blob/master/rfcs/20180907-contrib-sunset.md\n",
      "  * https://github.com/tensorflow/addons\n",
      "If you depend on functionality not listed there, please file an issue.\n",
      "\n",
      "WARNING:tensorflow:From /localhome/volodin/miniconda3/envs/neuronfailure/lib/python3.6/site-packages/tensorflow/contrib/layers/python/layers/layers.py:1624: flatten (from tensorflow.python.layers.core) is deprecated and will be removed in a future version.\n",
      "Instructions for updating:\n",
      "Use keras.layers.flatten instead.\n",
      "WARNING:tensorflow:From /localhome/volodin/miniconda3/envs/neuronfailure/lib/python3.6/site-packages/tensorflow/python/framework/op_def_library.py:263: colocate_with (from tensorflow.python.framework.ops) is deprecated and will be removed in a future version.\n",
      "Instructions for updating:\n",
      "Colocations handled automatically by placer.\n",
      "WARNING:tensorflow:From /localhome/volodin/miniconda3/envs/neuronfailure/lib/python3.6/site-packages/tensorflow/python/ops/losses/losses_impl.py:209: to_float (from tensorflow.python.ops.math_ops) is deprecated and will be removed in a future version.\n",
      "Instructions for updating:\n",
      "Use tf.cast instead.\n"
     ]
    }
   ],
   "source": [
    "# flatten w * h\n",
    "l0 = tf.contrib.layers.flatten(x)\n",
    "\n",
    "# layers\n",
    "with tf.name_scope('layers'):\n",
    "    z = l0\n",
    "    z = fc_layer(z, 10)\n",
    "    z = fc_layer(z, 5)\n",
    "    z = fc_layer(z, 3, activation = None)\n",
    "    output = z\n",
    "\n",
    "# softmax to make probability distribution\n",
    "logits = tf.nn.softmax(output)\n",
    "\n",
    "# predicted labels\n",
    "labels = tf.argmax(logits, axis = 1)\n",
    "\n",
    "# loss: cross-entropy\n",
    "loss = tf.losses.softmax_cross_entropy(y_one_hot, logits)\n",
    "\n",
    "# accuracy of predictions\n",
    "accuracy = tf.contrib.metrics.accuracy(labels, y)"
   ]
  },
  {
   "cell_type": "code",
   "execution_count": 10,
   "metadata": {},
   "outputs": [],
   "source": [
    "# list of all parameters\n",
    "params = tf.trainable_variables()#tf.get_collection(tf.GraphKeys.TRAINABLE_VARIABLES)"
   ]
  },
  {
   "cell_type": "code",
   "execution_count": 11,
   "metadata": {},
   "outputs": [
    {
     "name": "stdout",
     "output_type": "stream",
     "text": [
      "Total parameters: 123\n"
     ]
    }
   ],
   "source": [
    "print('Total parameters:', np.sum([np.prod(p.shape) for p in params]))"
   ]
  },
  {
   "cell_type": "code",
   "execution_count": 12,
   "metadata": {},
   "outputs": [],
   "source": [
    "class OwnGradientDescent():\n",
    "    def __init__(self, gamma = 0.5, theta = 0.9):\n",
    "        # gamma (learning rate)\n",
    "        self.gamma = tf.Variable(gamma, dtype = tf.float32)\n",
    "        self.theta = theta\n",
    "        \n",
    "    def minimize(self, loss, params):\n",
    "        \"\"\" Minimize some loss \"\"\"\n",
    "        def decrement_weights(W, gamma, grads):\n",
    "            \"\"\" w = w - how_much \"\"\"\n",
    "            ops = [w.assign(tf.subtract(w, tf.multiply(gamma, grad))) for w, grad in zip(W, grads)]\n",
    "            return tf.group(ops)\n",
    "        \n",
    "        # gradients of the loss w.r.t. params\n",
    "        grads = tf.gradients(loss, params)\n",
    "        \n",
    "        # perform gradient descent step\n",
    "        train_op = decrement_weights(params, self.gamma, grads)\n",
    "        \n",
    "        # updating gamma\n",
    "        upd_op = self.gamma.assign(tf.multiply(self.gamma, self.theta))\n",
    "        \n",
    "        return tf.group(train_op, upd_op)"
   ]
  },
  {
   "cell_type": "code",
   "execution_count": 13,
   "metadata": {},
   "outputs": [],
   "source": [
    "def epoch(train_op):\n",
    "    # do the training\n",
    "    train_loss, train_acc, _ = sess.run([loss, accuracy, train_op], feed_dict = {x: x_train, y: y_train})\n",
    "\n",
    "    # compute accuracy and loss\n",
    "    test_loss, test_acc = sess.run([loss, accuracy], feed_dict = {x: x_test, y: y_test})\n",
    "\n",
    "    # saving data\n",
    "    metrics['train_loss'] += [train_loss]\n",
    "    metrics['test_loss'] += [test_loss]\n",
    "    metrics['train_acc'] += [train_acc]\n",
    "    metrics['test_acc'] += [test_acc]"
   ]
  },
  {
   "cell_type": "code",
   "execution_count": 14,
   "metadata": {},
   "outputs": [],
   "source": [
    "def dz_dw_flatten(z):\n",
    "    \"\"\" Calculate dz/dparams and flatten the result \"\"\"\n",
    "    return tf.concat([tf.reshape(x, shape = (-1,)) for x in tf.gradients(z, params)], axis = 0)"
   ]
  },
  {
   "cell_type": "code",
   "execution_count": 15,
   "metadata": {},
   "outputs": [],
   "source": [
    "def iterate_flatten(tensor):\n",
    "    \"\"\" Iterate over flattened items of a tensor \"\"\"\n",
    "    if type(tensor) == list:\n",
    "        for t in tensor:\n",
    "            for v in iterate_flatten(t):\n",
    "                yield v\n",
    "    elif len(tensor.shape) == 0:\n",
    "        yield tensor\n",
    "    else:\n",
    "        for idx in range(tensor.shape[0]):\n",
    "            for v in iterate_flatten(tensor[idx]):\n",
    "                yield v"
   ]
  },
  {
   "cell_type": "code",
   "execution_count": 16,
   "metadata": {},
   "outputs": [
    {
     "name": "stderr",
     "output_type": "stream",
     "text": [
      "\r",
      "  0%|          | 0/123 [00:00<?, ?it/s]"
     ]
    },
    {
     "name": "stdout",
     "output_type": "stream",
     "text": [
      "WARNING:tensorflow:From /localhome/volodin/miniconda3/envs/neuronfailure/lib/python3.6/site-packages/tensorflow/python/ops/math_ops.py:3066: to_int32 (from tensorflow.python.ops.math_ops) is deprecated and will be removed in a future version.\n",
      "Instructions for updating:\n",
      "Use tf.cast instead.\n"
     ]
    },
    {
     "name": "stderr",
     "output_type": "stream",
     "text": [
      "100%|██████████| 123/123 [00:09<00:00, 10.53it/s]\n"
     ]
    }
   ],
   "source": [
    "# gradients of the loss w.r.t. params\n",
    "grads = tf.gradients(loss, params)\n",
    "grad_components = list(iterate_flatten(grads))\n",
    "hessian = [dz_dw_flatten(t) for t in tqdm(grad_components)]"
   ]
  },
  {
   "cell_type": "code",
   "execution_count": 17,
   "metadata": {},
   "outputs": [],
   "source": [
    "metrics = {}\n",
    "def train_and_get_hessian(operation, epochs_):\n",
    "    # metrics to compute\n",
    "    global metrics\n",
    "    metrics = {'train_loss': [], 'test_loss': [], 'train_acc': [], 'test_acc': []}\n",
    "    \n",
    "    # initializing weights...\n",
    "    init = tf.global_variables_initializer()\n",
    "    sess.run(init)\n",
    "    \n",
    "    for i in tqdm(range(epochs_)):\n",
    "        epoch(operation)\n",
    "    \n",
    "    clear_output()\n",
    "    \n",
    "    plt.figure()\n",
    "    plt.plot(metrics['train_loss'], label = 'train_loss')\n",
    "    plt.plot(metrics['test_loss'], label = 'test_loss')\n",
    "    #plt.legend()\n",
    "    #plt.show()\n",
    "\n",
    "    #plt.figure()\n",
    "    plt.plot(metrics['train_acc'], label = 'train_acc')\n",
    "    plt.plot(metrics['test_acc'], label = 'test_acc')\n",
    "    plt.legend()\n",
    "    plt.show()\n",
    "    \n",
    "    H = sess.run(hessian, feed_dict = {x: x_train, y: y_train})\n",
    "    eigens = np.real(np.linalg.eig(H)[0])\n",
    "    return metrics['train_acc'][-1], metrics['test_acc'][-1], eigens"
   ]
  },
  {
   "cell_type": "code",
   "execution_count": 18,
   "metadata": {},
   "outputs": [],
   "source": [
    "def experiment_for_optimizer(gd, epochs = 1000, accuracy_threshold = 0.9, repetitions = 20):\n",
    "    \"\"\" Train repetitions copies of a network with optimizer, output\n",
    "    Hessian eigenvalues of those satisfying accuracy threshold\"\"\"\n",
    "\n",
    "    result = []\n",
    "    r = 0\n",
    "    while r < repetitions:\n",
    "        train_acc, test_acc, eigens = train_and_get_hessian(gd, epochs)\n",
    "        if train_acc < accuracy_threshold or test_acc < accuracy_threshold:\n",
    "            print('Error: accuracy is insufficient opt=%s train=%.2f test=%.2f' % (str(gd), train_acc, test_acc))\n",
    "            print('Done: %d/%d' % (r, repetitions))\n",
    "            continue\n",
    "        r += 1\n",
    "        print('Done: %d/%d' % (r, repetitions))\n",
    "        result += list(eigens)\n",
    "    return result"
   ]
  },
  {
   "cell_type": "code",
   "execution_count": 30,
   "metadata": {
    "deletable": false,
    "editable": false,
    "run_control": {
     "frozen": true
    }
   },
   "outputs": [
    {
     "name": "stderr",
     "output_type": "stream",
     "text": [
      "100%|██████████| 1000/1000 [00:01<00:00, 894.66it/s]\n"
     ]
    },
    {
     "data": {
      "image/png": "[encoded data removed]",
      "text/plain": [
       "<Figure size 432x288 with 1 Axes>"
      ]
     },
     "metadata": {
      "needs_background": "light"
     },
     "output_type": "display_data"
    }
   ],
   "source": [
    "train_acc, test_acc, eigens = train_and_get_hessian(gd, 1000)"
   ]
  },
  {
   "cell_type": "markdown",
   "metadata": {},
   "source": [
    "## Experiments for Adam and GD, measuring spectrum of Hessian"
   ]
  },
  {
   "cell_type": "code",
   "execution_count": 19,
   "metadata": {},
   "outputs": [
    {
     "data": {
      "image/png": "[encoded data removed]",
      "text/plain": [
       "<Figure size 432x288 with 1 Axes>"
      ]
     },
     "metadata": {
      "needs_background": "light"
     },
     "output_type": "display_data"
    },
    {
     "name": "stdout",
     "output_type": "stream",
     "text": [
      "Done: 20/20\n"
     ]
    }
   ],
   "source": [
    "adam = tf.train.AdamOptimizer().minimize(loss)\n",
    "eig_adam = experiment_for_optimizer(adam, epochs = 1000, accuracy_threshold = 0.9, repetitions = 20)"
   ]
  },
  {
   "cell_type": "code",
   "execution_count": 24,
   "metadata": {},
   "outputs": [
    {
     "data": {
      "image/png": "[encoded data removed]",
      "text/plain": [
       "<Figure size 432x288 with 1 Axes>"
      ]
     },
     "metadata": {
      "needs_background": "light"
     },
     "output_type": "display_data"
    },
    {
     "name": "stdout",
     "output_type": "stream",
     "text": [
      "Done: 20/20\n"
     ]
    }
   ],
   "source": [
    "gd = OwnGradientDescent(gamma = 0.5, theta = 0.999).minimize(loss, params)\n",
    "eig_gd = experiment_for_optimizer(gd, epochs = 1000, accuracy_threshold = 0.9, repetitions = 20)"
   ]
  },
  {
   "cell_type": "code",
   "execution_count": 25,
   "metadata": {},
   "outputs": [],
   "source": [
    "def hist_th(eigens, threshold = 100, name = 'GD'):\n",
    "    plt.hist(np.extract(np.abs(eigens) < threshold, np.abs(eigens)), label = name, alpha = 0.5)\n",
    "    #plt.show()"
   ]
  },
  {
   "cell_type": "code",
   "execution_count": 26,
   "metadata": {},
   "outputs": [],
   "source": [
    "def plot_for_thr(threshold = 100):\n",
    "    plt.figure()\n",
    "    hist_th(eig_gd, threshold, 'GD')\n",
    "    hist_th(eig_adam, threshold, 'Adam')\n",
    "    plt.legend()"
   ]
  },
  {
   "cell_type": "code",
   "execution_count": 27,
   "metadata": {},
   "outputs": [
    {
     "data": {
      "image/png": "[encoded data removed]",
      "text/plain": [
       "<Figure size 432x288 with 1 Axes>"
      ]
     },
     "metadata": {
      "needs_background": "light"
     },
     "output_type": "display_data"
    }
   ],
   "source": [
    "plot_for_thr(1)"
   ]
  },
  {
   "cell_type": "code",
   "execution_count": 28,
   "metadata": {},
   "outputs": [
    {
     "data": {
      "image/png": "[encoded data removed]",
      "text/plain": [
       "<Figure size 432x288 with 1 Axes>"
      ]
     },
     "metadata": {
      "needs_background": "light"
     },
     "output_type": "display_data"
    }
   ],
   "source": [
    "plot_for_thr(100)"
   ]
  },
  {
   "cell_type": "markdown",
   "metadata": {},
   "source": [
    "Spectra are similar close to $0$, GD has a bit larger maximal eigenvalues."
   ]
  },
  {
   "cell_type": "markdown",
   "metadata": {},
   "source": [
    "### Gradient descent with different learning rates"
   ]
  },
  {
   "cell_type": "code",
   "execution_count": 29,
   "metadata": {},
   "outputs": [],
   "source": [
    "learning_rates = np.linspace(0.2, 0.6, 5)"
   ]
  },
  {
   "cell_type": "code",
   "execution_count": 30,
   "metadata": {},
   "outputs": [],
   "source": [
    "def experiment_for_rate(rate, epochs = 1000, theta = 0.999):\n",
    "    \"\"\" Train repetitions copies of a network with GD(rate), output\n",
    "    Hessian eigenvalues of those satisfying accuracy threshold\"\"\"\n",
    "    \n",
    "    gd = OwnGradientDescent(gamma = rate, theta = theta).minimize(loss, params)\n",
    "    return experiment_for_optimizer(gd, epochs = epochs)"
   ]
  },
  {
   "cell_type": "code",
   "execution_count": 31,
   "metadata": {},
   "outputs": [
    {
     "data": {
      "image/png": "[encoded data removed]",
      "text/plain": [
       "<Figure size 432x288 with 1 Axes>"
      ]
     },
     "metadata": {
      "needs_background": "light"
     },
     "output_type": "display_data"
    },
    {
     "name": "stdout",
     "output_type": "stream",
     "text": [
      "Done: 20/20\n"
     ]
    }
   ],
   "source": [
    "eigens_for_rate = {rate: experiment_for_rate(rate, epochs = 3000) for rate in learning_rates}"
   ]
  },
  {
   "cell_type": "code",
   "execution_count": 32,
   "metadata": {},
   "outputs": [
    {
     "name": "stdout",
     "output_type": "stream",
     "text": [
      "1.4262876e-06 0.2\n",
      "1.2696701e-06 0.3\n",
      "7.7104437e-07 0.4\n",
      "1.1779134e-06 0.5\n",
      "9.34483e-07 0.6\n"
     ]
    },
    {
     "data": {
      "image/png": "[encoded data removed]",
      "text/plain": [
       "<Figure size 432x288 with 1 Axes>"
      ]
     },
     "metadata": {
      "needs_background": "light"
     },
     "output_type": "display_data"
    }
   ],
   "source": [
    "for r in learning_rates:\n",
    "    print(np.median(eigens_for_rate[r]), r)\n",
    "    hist_th(eigens_for_rate[r], threshold = 1, name = 'GD')\n",
    "    plt.legend()\n",
    "    #plt.show()"
   ]
  },
  {
   "cell_type": "markdown",
   "metadata": {},
   "source": [
    "Bigger learning rate results in smaller eigenvalues (more sharp minima)?"
   ]
  },
  {
   "cell_type": "code",
   "execution_count": null,
   "metadata": {},
   "outputs": [],
   "source": []
  }
 ],
 "metadata": {
  "kernelspec": {
   "display_name": "Python 3",
   "language": "python",
   "name": "python3"
  },
  "language_info": {
   "codemirror_mode": {
    "name": "ipython",
    "version": 3
   },
   "file_extension": ".py",
   "mimetype": "text/x-python",
   "name": "python",
   "nbconvert_exporter": "python",
   "pygments_lexer": "ipython3",
   "version": "3.6.8"
  },
  "varInspector": {
   "cols": {
    "lenName": 16,
    "lenType": 16,
    "lenVar": 40
   },
   "kernels_config": {
    "python": {
     "delete_cmd_postfix": "",
     "delete_cmd_prefix": "del ",
     "library": "var_list.py",
     "varRefreshCmd": "print(var_dic_list())"
    },
    "r": {
     "delete_cmd_postfix": ") ",
     "delete_cmd_prefix": "rm(",
     "library": "var_list.r",
     "varRefreshCmd": "cat(var_dic_list()) "
    }
   },
   "types_to_exclude": [
    "module",
    "function",
    "builtin_function_or_method",
    "instance",
    "_Feature"
   ],
   "window_display": false
  }
 },
 "nbformat": 4,
 "nbformat_minor": 2
}
