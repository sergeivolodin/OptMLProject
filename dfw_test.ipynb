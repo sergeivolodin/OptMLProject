{
 "cells": [
  {
   "cell_type": "code",
   "execution_count": 163,
   "metadata": {},
   "outputs": [],
   "source": [
    "import torch\n",
    "import torchvision\n",
    "import torch.nn as nn\n",
    "import torch.nn.functional as F\n",
    "import torch.optim as optim\n",
    "%matplotlib inline\n",
    "from matplotlib import pyplot as plt\n",
    "import numpy as np\n",
    "from tqdm import tqdm\n",
    "from experiments.utils import accuracy"
   ]
  },
  {
   "cell_type": "code",
   "execution_count": 164,
   "metadata": {},
   "outputs": [],
   "source": [
    "from dfw import DFW\n",
    "from dfw.losses import MultiClassHingeLoss"
   ]
  },
  {
   "cell_type": "code",
   "execution_count": 165,
   "metadata": {},
   "outputs": [],
   "source": [
    "train_loader = torch.utils.data.DataLoader(\n",
    "  torchvision.datasets.MNIST('./files/', train=True, download=True,\n",
    "                             transform=torchvision.transforms.Compose([\n",
    "                               torchvision.transforms.ToTensor(),\n",
    "                               torchvision.transforms.Normalize(\n",
    "                                 (0.1307,), (0.3081,))\n",
    "                             ])),\n",
    "  batch_size=256, shuffle=True)\n",
    "\n",
    "test_loader = torch.utils.data.DataLoader(\n",
    "  torchvision.datasets.MNIST('./files/', train=False, download=True,\n",
    "                             transform=torchvision.transforms.Compose([\n",
    "                               torchvision.transforms.ToTensor(),\n",
    "                               torchvision.transforms.Normalize(\n",
    "                                 (0.1307,), (0.3081,))\n",
    "                             ])),\n",
    "  batch_size=10000, shuffle=True)"
   ]
  },
  {
   "cell_type": "code",
   "execution_count": 166,
   "metadata": {},
   "outputs": [],
   "source": [
    "class Net(nn.Module):\n",
    "    def __init__(self):\n",
    "        super(Net, self).__init__()\n",
    "        self.conv1 = nn.Conv2d(1, 10, kernel_size=5)\n",
    "        self.conv2 = nn.Conv2d(10, 20, kernel_size=5)\n",
    "        self.conv2_drop = nn.Dropout2d()\n",
    "        self.fc1 = nn.Linear(320, 50)\n",
    "        self.fc2 = nn.Linear(50, 10)\n",
    "\n",
    "    def forward(self, x):\n",
    "        x = F.relu(F.max_pool2d(self.conv1(x), 2))\n",
    "        x = F.relu(F.max_pool2d(self.conv2_drop(self.conv2(x)), 2))\n",
    "        x = x.view(-1, 320)\n",
    "        x = F.relu(self.fc1(x))\n",
    "        x = F.dropout(x, training=self.training)\n",
    "        x = self.fc2(x)\n",
    "        return F.log_softmax(x)"
   ]
  },
  {
   "cell_type": "code",
   "execution_count": 167,
   "metadata": {},
   "outputs": [],
   "source": [
    "model = Net().cuda()"
   ]
  },
  {
   "cell_type": "code",
   "execution_count": 168,
   "metadata": {},
   "outputs": [],
   "source": [
    "# boilerplate code:\n",
    "# `model` is a nn.Module\n",
    "# `x` is an input sample, `y` is a label\n",
    "\n",
    "# create loss function\n",
    "svm = MultiClassHingeLoss()\n",
    "\n",
    "# create DFW optimizer with learning rate of 0.1\n",
    "# does not work for eta = 0.1, 10000 batch, 10 epochs, cuda\n",
    "# 20 epochs:still no\n",
    "# 256 batch, 20 epochs: works\n",
    "\n",
    "# works for cifar10 code python main.py --dataset cifar10 --densenet --opt dfw --l2 1e-4 --eta 0.1 --loss svm --smooth\n",
    "# needed to download cifar10, install setup.py\n",
    "optimizer = DFW(model.parameters(), eta=0.1)\n",
    "\n",
    "\n",
    "# Adam worked for cuda, 10 epochs, 10000 batch size, 0.001 learning rate\n",
    "# optimizer = optim.Adam(model.parameters(), lr=0.001)\n"
   ]
  },
  {
   "cell_type": "code",
   "execution_count": 169,
   "metadata": {},
   "outputs": [],
   "source": [
    "losses = []\n",
    "acc_train = []\n",
    "acc_test = []"
   ]
  },
  {
   "cell_type": "code",
   "execution_count": 170,
   "metadata": {
    "scrolled": true
   },
   "outputs": [
    {
     "name": "stderr",
     "output_type": "stream",
     "text": [
      "0it [00:00, ?it/s]/localhome/volodin/miniconda3/envs/neuronfailure/lib/python3.6/site-packages/ipykernel_launcher.py:17: UserWarning: Implicit dimension choice for log_softmax has been deprecated. Change the call to include dim=X as an argument.\n",
      "235it [00:14, 18.78it/s]\n",
      "235it [00:12, 18.64it/s]\n",
      "235it [00:12, 19.25it/s]\n",
      "235it [00:13, 17.31it/s]\n",
      "235it [00:14, 16.61it/s]\n",
      "235it [00:14, 15.99it/s]\n",
      "235it [00:12, 18.24it/s]\n",
      "235it [00:12, 18.20it/s]\n",
      "235it [00:12, 18.15it/s]\n",
      "235it [00:12, 18.27it/s]\n",
      "235it [00:12, 22.45it/s]\n",
      "235it [00:14, 16.54it/s]\n",
      "235it [00:12, 18.99it/s]\n",
      "235it [00:13, 15.90it/s]\n",
      "235it [00:12, 18.16it/s]\n",
      "235it [00:12, 22.50it/s]\n",
      "235it [00:13, 17.94it/s]\n",
      "235it [00:12, 19.00it/s]\n",
      "235it [00:12, 22.92it/s]\n",
      "235it [00:13, 17.92it/s]\n"
     ]
    }
   ],
   "source": [
    "for epoch in range(20):\n",
    "    for batch_idx, (x, y) in tqdm(enumerate(train_loader)):\n",
    "        #print(data.shape)\n",
    "        #plt.imshow(data[0, 0, :, :])\n",
    "\n",
    "        # DFW can be used with standard pytorch syntax\n",
    "        x, y = x.cuda(), y.cuda()\n",
    "        out = model(x)\n",
    "        acc = accuracy(out, y)\n",
    "        loss = svm(out, y)\n",
    "\n",
    "        optimizer.zero_grad()\n",
    "        #print(y)\n",
    "        #print(torch.argmax(out, 1))\n",
    "        loss.backward()\n",
    "        # NB: DFW needs to have access to the current loss value,\n",
    "        # (this syntax is compatible with standard pytorch optimizers too)\n",
    "        optimizer.step(lambda: float(loss))\n",
    "        losses.append(loss.item())\n",
    "        acc_train.append(acc)"
   ]
  },
  {
   "cell_type": "code",
   "execution_count": 171,
   "metadata": {},
   "outputs": [
    {
     "data": {
      "text/plain": [
       "[<matplotlib.lines.Line2D at 0x7f5bbe1ceeb8>]"
      ]
     },
     "execution_count": 171,
     "metadata": {},
     "output_type": "execute_result"
    },
    {
     "data": {
      "image/png": "[encoded data removed]",
      "text/plain": [
       "<Figure size 432x288 with 1 Axes>"
      ]
     },
     "metadata": {
      "needs_background": "light"
     },
     "output_type": "display_data"
    }
   ],
   "source": [
    "plt.plot(losses)"
   ]
  },
  {
   "cell_type": "code",
   "execution_count": 172,
   "metadata": {},
   "outputs": [
    {
     "data": {
      "text/plain": [
       "[<matplotlib.lines.Line2D at 0x7f5bbe10e828>]"
      ]
     },
     "execution_count": 172,
     "metadata": {},
     "output_type": "execute_result"
    },
    {
     "data": {
      "image/png": "[encoded data removed]",
      "text/plain": [
       "<Figure size 432x288 with 1 Axes>"
      ]
     },
     "metadata": {
      "needs_background": "light"
     },
     "output_type": "display_data"
    }
   ],
   "source": [
    "plt.plot(acc_train)"
   ]
  },
  {
   "cell_type": "code",
   "execution_count": null,
   "metadata": {},
   "outputs": [],
   "source": []
  }
 ],
 "metadata": {
  "kernelspec": {
   "display_name": "Python 3",
   "language": "python",
   "name": "python3"
  },
  "language_info": {
   "codemirror_mode": {
    "name": "ipython",
    "version": 3
   },
   "file_extension": ".py",
   "mimetype": "text/x-python",
   "name": "python",
   "nbconvert_exporter": "python",
   "pygments_lexer": "ipython3",
   "version": "3.6.8"
  }
 },
 "nbformat": 4,
 "nbformat_minor": 2
}
