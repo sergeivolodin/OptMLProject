{
 "cells": [
  {
   "cell_type": "code",
   "execution_count": 1,
   "metadata": {},
   "outputs": [],
   "source": [
    "import numpy as np\n",
    "%matplotlib inline\n",
    "from matplotlib import pyplot as plt"
   ]
  },
  {
   "cell_type": "markdown",
   "metadata": {},
   "source": [
    "### Frank-Wolfe (conditional gradient method)\n",
    "\n",
    "**Problem:**\n",
    "$$\n",
    "\\min\\limits_{x\\in X}f(x)\n",
    "$$\n",
    "\n",
    "**Method:** Choosing a direction $s_{t}\\in\\arg\\min\\limits_{x\\in X}\\nabla f(x_t)^T x$ (linear oracle) and taking a step $x_{t+1}=(1-\\gamma_t)x_t+\\gamma_ts_t$ for $\\gamma_t=2/(t+1)$\n",
    "\n",
    "**Motivation:** solving linear oracle might be simpler than doing a projection step.\n",
    "\n",
    "In this notebook I take a small simple problem and apply vanilla Frank-Wolfe for it."
   ]
  },
  {
   "cell_type": "markdown",
   "metadata": {},
   "source": [
    "Define the set $X = \\{x\\in\\mathbb{R}^n\\big| \\|x\\|_p\\leq R\\}$ and $f(x)=-\\frac{1}{2}x^TAx+b^T x$ for symmetrical $A\\succeq 0$.\n",
    "\n",
    "Then for any $x$, $\\nabla f(x)=-Ax+b$. Now we need to compute $\\min\\limits_{\\|s\\|_p\\leq R}g^T s$ which gives $s(g)=-R|g|^{q/p}\\mbox{sign} g/\\|g\\|_q^{q/p}$ for $q$ s.t. $1/p+1/q=1$"
   ]
  },
  {
   "cell_type": "code",
   "execution_count": 2,
   "metadata": {},
   "outputs": [
    {
     "data": {
      "image/png": "[encoded data removed]",
      "text/plain": [
       "<Figure size 432x288 with 1 Axes>"
      ]
     },
     "metadata": {
      "needs_background": "light"
     },
     "output_type": "display_data"
    }
   ],
   "source": [
    "# dimensionality\n",
    "n = 100\n",
    "\n",
    "# set radius\n",
    "R = 1\n",
    "\n",
    "# norm order\n",
    "p = 3.1\n",
    "q = 1. / (1 - 1. / p)\n",
    "\n",
    "# random matrix\n",
    "A = np.random.randn(n, n)\n",
    "\n",
    "# making it symmetrical\n",
    "A = (A + A.T) / 2\n",
    "\n",
    "# and p.s.d.\n",
    "A = A + np.eye(n) * n / 1\n",
    "\n",
    "# some b\n",
    "b = np.random.randn(n, 1)\n",
    "\n",
    "# sanity check\n",
    "assert np.min(np.linalg.eig(A)[0]) > 0, \"Must have p.s.d. A\"\n",
    "\n",
    "# plotting eigenvalues\n",
    "plt.title('Eigenvalues of A')\n",
    "plt.ylabel('Frequency')\n",
    "plt.xlabel('$\\lambda$')\n",
    "plt.hist(np.linalg.eig(A)[0])\n",
    "plt.show()"
   ]
  },
  {
   "cell_type": "code",
   "execution_count": 3,
   "metadata": {},
   "outputs": [],
   "source": [
    "def f(x):\n",
    "    \"\"\" Function at point x \"\"\"\n",
    "    # making a column vector\n",
    "    x = x.reshape(-1, 1)\n",
    "    return np.mean(-0.5 * x.T @ A @ x + b.T @ x) # taking the only value\n",
    "\n",
    "def grad_f(x):\n",
    "    \"\"\" Gradient of f at x \"\"\"\n",
    "    \n",
    "    # making a column vector\n",
    "    x = x.reshape(-1, 1)\n",
    "    return -A @ x + b.T @ x\n",
    "\n",
    "def constraint_slack(x):\n",
    "    \"\"\" Slack at point x \"\"\"\n",
    "    x = x.reshape(-1)\n",
    "    return R - np.linalg.norm(x, ord = p)"
   ]
  },
  {
   "cell_type": "code",
   "execution_count": 4,
   "metadata": {},
   "outputs": [],
   "source": [
    "def s(g):\n",
    "    \"\"\" Linear oracle \"\"\"\n",
    "    g = g.reshape(-1)\n",
    "    g_qp = np.abs(g) ** (q / p)\n",
    "    g_qp_signed = np.multiply(g_qp, np.sign(g))\n",
    "    g_q_qp_norm = np.linalg.norm(g, ord = q) ** (q / p)\n",
    "\n",
    "    return -R * g_qp_signed / g_q_qp_norm"
   ]
  },
  {
   "cell_type": "code",
   "execution_count": 5,
   "metadata": {},
   "outputs": [],
   "source": [
    "# another sanity check\n",
    "assert np.allclose(np.linalg.norm(s(np.random.randn(n)), ord = p), R), \"Check s(g) implementation\""
   ]
  },
  {
   "cell_type": "code",
   "execution_count": 6,
   "metadata": {},
   "outputs": [],
   "source": [
    "# initial point\n",
    "x = np.random.randn(n, 1)\n",
    "x = x / np.linalg.norm(x.reshape(-1), ord = p) / 2\n",
    "\n",
    "# loss values\n",
    "losses = []\n",
    "\n",
    "# constraint slacks\n",
    "slacks = []\n",
    "\n",
    "# gradient norms\n",
    "gradnorms = []\n",
    "\n",
    "# step size\n",
    "gamma = 0.5\n",
    "\n",
    "# iterations\n",
    "for t in range(100):    \n",
    "    # calculating loss\n",
    "    losses += [f(x)]\n",
    "    slacks += [constraint_slack(x)]\n",
    "    \n",
    "    # current step\n",
    "    gamma_t = 2. * gamma / (t + 2)\n",
    "    \n",
    "    # gradient at current point\n",
    "    g = grad_f(x)\n",
    "    \n",
    "    gradnorms += [np.linalg.norm(g.reshape(-1), ord = p)]\n",
    "    \n",
    "    # linear oracle -> direction\n",
    "    s_t = s(g).reshape(-1, 1)\n",
    "    \n",
    "    # moving a bit in the direction\n",
    "    x = (1 - gamma_t) * x + gamma_t * s_t"
   ]
  },
  {
   "cell_type": "code",
   "execution_count": 7,
   "metadata": {},
   "outputs": [
    {
     "data": {
      "image/png": "[encoded data removed]",
      "text/plain": [
       "<Figure size 432x288 with 1 Axes>"
      ]
     },
     "metadata": {
      "needs_background": "light"
     },
     "output_type": "display_data"
    }
   ],
   "source": [
    "plt.title('Loss over iterations')\n",
    "plt.xlabel('Iterations $t$')\n",
    "plt.ylabel('$f(x_t)$')\n",
    "plt.plot(losses)\n",
    "plt.show()"
   ]
  },
  {
   "cell_type": "code",
   "execution_count": 8,
   "metadata": {},
   "outputs": [
    {
     "data": {
      "image/png": "[encoded data removed]",
      "text/plain": [
       "<Figure size 432x288 with 1 Axes>"
      ]
     },
     "metadata": {
      "needs_background": "light"
     },
     "output_type": "display_data"
    }
   ],
   "source": [
    "plt.title('Constraint slack over iterations')\n",
    "plt.xlabel('Iterations $t$')\n",
    "plt.ylabel('Slack $R-||x||_p$')\n",
    "plt.plot(slacks)\n",
    "plt.show()"
   ]
  },
  {
   "cell_type": "code",
   "execution_count": 9,
   "metadata": {},
   "outputs": [
    {
     "data": {
      "image/png": "[encoded data removed]",
      "text/plain": [
       "<Figure size 432x288 with 1 Axes>"
      ]
     },
     "metadata": {
      "needs_background": "light"
     },
     "output_type": "display_data"
    }
   ],
   "source": [
    "plt.title('Gradient norms over iterations')\n",
    "plt.xlabel('Iterations $t$')\n",
    "plt.ylabel('Gradient norms $||\\\\nabla f(x_t)||$')\n",
    "plt.plot(gradnorms)\n",
    "plt.show()"
   ]
  },
  {
   "cell_type": "code",
   "execution_count": null,
   "metadata": {},
   "outputs": [],
   "source": []
  }
 ],
 "metadata": {
  "kernelspec": {
   "display_name": "Python 3",
   "language": "python",
   "name": "python3"
  },
  "language_info": {
   "codemirror_mode": {
    "name": "ipython",
    "version": 3
   },
   "file_extension": ".py",
   "mimetype": "text/x-python",
   "name": "python",
   "nbconvert_exporter": "python",
   "pygments_lexer": "ipython3",
   "version": "3.6.8"
  }
 },
 "nbformat": 4,
 "nbformat_minor": 2
}
