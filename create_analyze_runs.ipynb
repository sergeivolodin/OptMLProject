{
 "cells": [
  {
   "cell_type": "code",
   "execution_count": 8,
   "metadata": {},
   "outputs": [],
   "source": [
    "%load_ext autoreload\n",
    "%autoreload 2\n",
    "import numpy as np\n",
    "%matplotlib inline\n",
    "from matplotlib import pyplot as plt\n",
    "import os\n",
    "from create_analyze_runs_helpers import *"
   ]
  },
  {
   "cell_type": "markdown",
   "metadata": {},
   "source": [
    "### Experiment settings"
   ]
  },
  {
   "cell_type": "code",
   "execution_count": 9,
   "metadata": {},
   "outputs": [],
   "source": [
    "def small_setting():\n",
    "    # SMALL setting experiments\n",
    "    setting_name = 'small'\n",
    "    common = {'image_side': 4, 'giveup': 100, 'accuracy_threshold': 0.0, 'p': 3.0, 'repetitions': 1, 'architecture': '20_10'}\n",
    "    param_groups = {\n",
    "        'sgd':\n",
    "        [{'optimizer': 'sgd', 'train_batch_size': 1000, 'learning_rate': 1.0, 'epochs': 100, **common}],\n",
    "\n",
    "        'frankwolfe':\n",
    "        [{'optimizer': 'frankwolfe', 'train_batch_size': 1000, 'p': 2.0, 'R': 100.0, 'gamma': -1.0, 'ro': -1.0,\n",
    "         'epochs': 100, **common}],\n",
    "\n",
    "        'adam':\n",
    "        [{'optimizer': 'adam', 'train_batch_size': 1000, 'p': 2.0, 'learning_rate': 0.001, 'beta1': 0.9, 'beta2': 0.999, 'epsilon': 1e-08,\n",
    "         'epochs': 100, **common}],\n",
    "    }\n",
    "    return setting_name, common, param_groups"
   ]
  },
  {
   "cell_type": "code",
   "execution_count": 10,
   "metadata": {},
   "outputs": [],
   "source": [
    "def medium_setting():\n",
    "    # medium setting\n",
    "    setting_name = 'medium_auto'\n",
    "    common = {'image_side': 5, 'giveup': 100, 'accuracy_threshold': 0.0, 'p': 3.0, 'repetitions': 3, 'architecture': '20_10'}\n",
    "    param_groups = {\n",
    "        'sgd':\n",
    "        [{'optimizer': 'sgd', 'train_batch_size': 1000, 'learning_rate': lr, 'epochs': 100, **common}\n",
    "         for lr in [0.1, 0.01, 0.001, 0.0001]],\n",
    "\n",
    "        'frankwolfe_stochastic':\n",
    "        [{'optimizer': 'frankwolfe', 'train_batch_size': 1000, 'R': 20.0, 'gamma': gamma, 'ro': ro,\n",
    "         'epochs': 100, **common} for gamma in [-1.] + [0.1, 0.5, 1.]\n",
    "         for ro in [-1.] + list(np.linspace(0, 1, 3))],\n",
    "\n",
    "            'frankwolfe_deterministic':\n",
    "        [{'optimizer': 'frankwolfe', 'train_batch_size': 60000, 'R': 20.0, 'gamma': gamma, 'ro': 1.0,\n",
    "         'epochs': 500, **common} for gamma in [-1.] + [0.1, 0.3, 0.5]],\n",
    "\n",
    "        'adam':\n",
    "        [{'optimizer': 'adam', 'train_batch_size': 1000, 'learning_rate': lr, 'beta1': 0.9, 'beta2': 0.999, 'epsilon': 1e-08,\n",
    "         'epochs': 100, **common} for lr in [0.1, 0.01, 0.001, 0.0001]]\n",
    "    }\n",
    "    return setting_name, common, param_groups"
   ]
  },
  {
   "cell_type": "code",
   "execution_count": 11,
   "metadata": {},
   "outputs": [],
   "source": [
    "def big_setting():\n",
    "    # BIG setting\n",
    "    setting_name = 'big'\n",
    "    common = {'image_side': 10, 'giveup': 100, 'accuracy_threshold': 0.0, 'p': 3.0, 'repetitions': 15, 'architecture': '50_50_20'}\n",
    "    param_groups = {\n",
    "        'sgd':\n",
    "        [{'optimizer': 'sgd', 'train_batch_size': 1000, 'learning_rate': lr, 'epochs': 1000, **common}\n",
    "         for lr in [1., 0.5, 0.1, 0.05]],\n",
    "\n",
    "        'frankwolfe_stochastic':\n",
    "        [{'optimizer': 'frankwolfe', 'train_batch_size': 1000, 'R': 20.0, 'gamma': gamma, 'ro': ro,\n",
    "         'epochs': 1000, **common} for gamma in [-1.] + [0.1, 0.5]\n",
    "         for ro in [-1.] + [0.1, 0.3, 0.5]],\n",
    "\n",
    "        'frankwolfe_deterministic':\n",
    "        [{'optimizer': 'frankwolfe', 'train_batch_size': 60000, 'R': 20.0, 'gamma': gamma, 'ro': 1.0,\n",
    "         'epochs': 1000, **common} for gamma in [-1.] + [0.1, 0.5]],\n",
    "\n",
    "        'adam':\n",
    "        [{'optimizer': 'adam', 'train_batch_size': 1000, 'learning_rate': lr, 'beta1': 0.9, 'beta2': 0.999, 'epsilon': 1e-08,\n",
    "         'epochs': 1000, **common} for lr in [0.01, 0.001, 0.0001]]\n",
    "    }\n",
    "    return setting_name, common, param_groups"
   ]
  },
  {
   "cell_type": "code",
   "execution_count": 12,
   "metadata": {},
   "outputs": [],
   "source": [
    "def batch_size_setting():\n",
    "    # Medium 2 setting (batch size effect)\n",
    "    setting_name = 'medium2'\n",
    "    common = {'image_side': 5, 'giveup': 100, 'accuracy_threshold': 0.0, 'p': 3.0, 'repetitions': 10, 'architecture': '20_10'}\n",
    "    batches = [1000, 5000, 10000, 60000]\n",
    "    param_groups = {\n",
    "        'sgd':\n",
    "        [{'optimizer': 'sgd', 'train_batch_size': bs, 'learning_rate': 1.0, 'epochs': 1000, **common}\n",
    "         for bs in batches],\n",
    "\n",
    "        'frankwolfe_stochastic':\n",
    "        [{'optimizer': 'frankwolfe', 'train_batch_size': bs, 'R': 20.0, 'gamma': -1.0, 'ro': -1.0,\n",
    "         'epochs': 1000, **common} for bs in batches],\n",
    "\n",
    "        'frankwolfe_deterministic':\n",
    "        [{'optimizer': 'frankwolfe', 'train_batch_size': 60000, 'R': 20.0, 'gamma': -1.0, 'ro': 1.0,\n",
    "         'epochs': 5000, **common}],\n",
    "\n",
    "        'adam':\n",
    "        [{'optimizer': 'adam', 'train_batch_size': bs, 'learning_rate': 0.001, 'beta1': 0.9, 'beta2': 0.999, 'epsilon': 1e-08,\n",
    "         'epochs': 1000, **common} for bs in batches]\n",
    "    }\n",
    "    return setting_name, common, param_groups"
   ]
  },
  {
   "cell_type": "markdown",
   "metadata": {},
   "source": [
    "### Choosing a setting"
   ]
  },
  {
   "cell_type": "code",
   "execution_count": 13,
   "metadata": {},
   "outputs": [],
   "source": [
    "R = small_setting()\n",
    "#R = medium_setting()\n",
    "#R = big_setting()\n",
    "#R = batch_size_setting()"
   ]
  },
  {
   "cell_type": "code",
   "execution_count": 14,
   "metadata": {},
   "outputs": [],
   "source": [
    "# name of the setting, common parameters, parameter groups, all parameters\n",
    "setting_name, common, param_groups = R\n",
    "parameters = [x for group in param_groups.values() for x in group]"
   ]
  },
  {
   "cell_type": "code",
   "execution_count": 15,
   "metadata": {},
   "outputs": [
    {
     "name": "stdout",
     "output_type": "stream",
     "text": [
      "{'sgd': [], 'frankwolfe': [], 'adam': []}\n"
     ]
    }
   ],
   "source": [
    "# group -> what changes\n",
    "varying = {group: varying_for_optim(param_groups[group]) for group in param_groups.keys()}\n",
    "\n",
    "print(varying)"
   ]
  },
  {
   "cell_type": "markdown",
   "metadata": {
    "scrolled": true
   },
   "source": [
    "### Creating the `.sh` file"
   ]
  },
  {
   "cell_type": "code",
   "execution_count": 66,
   "metadata": {
    "scrolled": true
   },
   "outputs": [
    {
     "name": "stdout",
     "output_type": "stream",
     "text": [
      "OUTPUT: ./output/run_small.sh\n",
      "Total runs:  3\n",
      "Total time (approx):  0.0625\n"
     ]
    }
   ],
   "source": [
    "# writing the .sh file\n",
    "write_sh_file(setting_name, parameters, common)"
   ]
  },
  {
   "cell_type": "markdown",
   "metadata": {
    "scrolled": true
   },
   "source": [
    "### Processing data"
   ]
  },
  {
   "cell_type": "code",
   "execution_count": 56,
   "metadata": {
    "scrolled": true
   },
   "outputs": [
    {
     "name": "stdout",
     "output_type": "stream",
     "text": [
      "!!! File  missing ./output/optimizer-sgd_architecture-20_20_image_side-10_giveup-100_accuracy_threshold-0.0_epochs-100_repetitions-1_train_batch_size-1000_R-None_gamma-None_p-None_ro-None_learning_rate-0.1_beta1-None_beta2-None_epsilon-None.output\n",
      "{'optimizer': 'sgd', 'train_batch_size': 1000, 'learning_rate': 0.1, 'epochs': 100, 'image_side': 10, 'giveup': 100, 'accuracy_threshold': 0.0, 'repetitions': 1, 'architecture': '20_20'}\n",
      "None\n",
      "-----\n",
      "!!! File  missing ./output/optimizer-frankwolfe_architecture-20_20_image_side-10_giveup-100_accuracy_threshold-0.0_epochs-200_repetitions-1_train_batch_size-1000_R-100.0_gamma-0.01_p-2.0_ro-0.6_learning_rate-None_beta1-None_beta2-None_epsilon-None.output\n",
      "{'optimizer': 'frankwolfe', 'train_batch_size': 1000, 'p': 2.0, 'R': 100.0, 'gamma': 0.01, 'ro': 0.6, 'epochs': 200, 'image_side': 10, 'giveup': 100, 'accuracy_threshold': 0.0, 'repetitions': 1, 'architecture': '20_20'}\n",
      "None\n",
      "-----\n",
      "!!! File  missing ./output/optimizer-adam_architecture-20_20_image_side-10_giveup-100_accuracy_threshold-0.0_epochs-200_repetitions-1_train_batch_size-1000_R-None_gamma-None_p-2.0_ro-None_learning_rate-0.001_beta1-0.9_beta2-0.999_epsilon-1e-08.output\n",
      "{'optimizer': 'adam', 'train_batch_size': 1000, 'p': 2.0, 'learning_rate': 0.001, 'beta1': 0.9, 'beta2': 0.999, 'epsilon': 1e-08, 'epochs': 200, 'image_side': 10, 'giveup': 100, 'accuracy_threshold': 0.0, 'repetitions': 1, 'architecture': '20_20'}\n",
      "None\n",
      "-----\n",
      "Done: 0/3\n"
     ]
    }
   ],
   "source": [
    "# parameter id -> processed file\n",
    "params_to_processed = []\n",
    "done = 0\n",
    "for param in parameters:\n",
    "    fs = process_file(get_file(**param), 'loss_decay_' + setting_name + '_' + shorten_dict(param, filename = True), True)\n",
    "    print(param)\n",
    "    print(fs)\n",
    "    print(\"-----\")\n",
    "    if fs is not None:\n",
    "        done += 1\n",
    "    params_to_processed.append(fs)\n",
    "print('Done: %d/%d' % (done, len(parameters)))"
   ]
  },
  {
   "cell_type": "code",
   "execution_count": 57,
   "metadata": {},
   "outputs": [
    {
     "ename": "AttributeError",
     "evalue": "'NoneType' object has no attribute 'keys'",
     "output_type": "error",
     "traceback": [
      "\u001b[0;31m---------------------------------------------------------------------------\u001b[0m",
      "\u001b[0;31mAttributeError\u001b[0m                            Traceback (most recent call last)",
      "\u001b[0;32m<ipython-input-57-9f5768609b7f>\u001b[0m in \u001b[0;36m<module>\u001b[0;34m\u001b[0m\n\u001b[1;32m      1\u001b[0m \u001b[0;31m# all measured quantities\u001b[0m\u001b[0;34m\u001b[0m\u001b[0;34m\u001b[0m\u001b[0;34m\u001b[0m\u001b[0m\n\u001b[0;32m----> 2\u001b[0;31m \u001b[0mall_metrics\u001b[0m \u001b[0;34m=\u001b[0m \u001b[0mlist\u001b[0m\u001b[0;34m(\u001b[0m\u001b[0mparams_to_processed\u001b[0m\u001b[0;34m[\u001b[0m\u001b[0;36m0\u001b[0m\u001b[0;34m]\u001b[0m\u001b[0;34m.\u001b[0m\u001b[0mkeys\u001b[0m\u001b[0;34m(\u001b[0m\u001b[0;34m)\u001b[0m\u001b[0;34m)\u001b[0m\u001b[0;34m\u001b[0m\u001b[0;34m\u001b[0m\u001b[0m\n\u001b[0m\u001b[1;32m      3\u001b[0m \u001b[0;34m\u001b[0m\u001b[0m\n\u001b[1;32m      4\u001b[0m \u001b[0;31m# have 7 metrics\u001b[0m\u001b[0;34m\u001b[0m\u001b[0;34m\u001b[0m\u001b[0;34m\u001b[0m\u001b[0m\n\u001b[1;32m      5\u001b[0m \u001b[0mprint\u001b[0m\u001b[0;34m(\u001b[0m\u001b[0mlen\u001b[0m\u001b[0;34m(\u001b[0m\u001b[0mall_metrics\u001b[0m\u001b[0;34m)\u001b[0m\u001b[0;34m)\u001b[0m\u001b[0;34m\u001b[0m\u001b[0;34m\u001b[0m\u001b[0m\n",
      "\u001b[0;31mAttributeError\u001b[0m: 'NoneType' object has no attribute 'keys'"
     ]
    }
   ],
   "source": [
    "# all measured quantities\n",
    "all_metrics = list(params_to_processed[0].keys())\n",
    "\n",
    "# have 7 metrics\n",
    "print(len(all_metrics))"
   ]
  },
  {
   "cell_type": "code",
   "execution_count": 58,
   "metadata": {},
   "outputs": [
    {
     "name": "stdout",
     "output_type": "stream",
     "text": [
      "=== OPT sgd / METRIC train_loss ===\n",
      "=== OPT sgd / METRIC test_loss ===\n",
      "=== OPT sgd / METRIC train_acc ===\n",
      "=== OPT sgd / METRIC test_acc ===\n",
      "=== OPT sgd / METRIC p_norm ===\n",
      "=== OPT sgd / METRIC hessian_eigens_mean ===\n",
      "=== OPT sgd / METRIC hessian_eigens_Max ===\n"
     ]
    },
    {
     "data": {
      "image/png": "[encoded data removed]",
      "text/plain": [
       "<Figure size 360x360 with 7 Axes>"
      ]
     },
     "metadata": {
      "needs_background": "light"
     },
     "output_type": "display_data"
    },
    {
     "name": "stdout",
     "output_type": "stream",
     "text": [
      "=== OPT frankwolfe / METRIC train_loss ===\n",
      "=== OPT frankwolfe / METRIC test_loss ===\n",
      "=== OPT frankwolfe / METRIC train_acc ===\n",
      "=== OPT frankwolfe / METRIC test_acc ===\n",
      "=== OPT frankwolfe / METRIC p_norm ===\n",
      "=== OPT frankwolfe / METRIC hessian_eigens_mean ===\n",
      "=== OPT frankwolfe / METRIC hessian_eigens_Max ===\n"
     ]
    },
    {
     "data": {
      "image/png": "[encoded data removed]",
      "text/plain": [
       "<Figure size 360x360 with 7 Axes>"
      ]
     },
     "metadata": {
      "needs_background": "light"
     },
     "output_type": "display_data"
    },
    {
     "name": "stdout",
     "output_type": "stream",
     "text": [
      "=== OPT adam / METRIC train_loss ===\n",
      "=== OPT adam / METRIC test_loss ===\n",
      "=== OPT adam / METRIC train_acc ===\n",
      "=== OPT adam / METRIC test_acc ===\n",
      "=== OPT adam / METRIC p_norm ===\n",
      "=== OPT adam / METRIC hessian_eigens_mean ===\n",
      "=== OPT adam / METRIC hessian_eigens_Max ===\n"
     ]
    },
    {
     "data": {
      "image/png": "[encoded data removed]",
      "text/plain": [
       "<Figure size 360x360 with 7 Axes>"
      ]
     },
     "metadata": {
      "needs_background": "light"
     },
     "output_type": "display_data"
    }
   ],
   "source": [
    "# printing all results (mean over runs/std)\n",
    "for optim in param_groups.keys():\n",
    "    data_for_metric = {}\n",
    "    for m in all_metrics:\n",
    "        print(\"=== OPT %s / METRIC %s ===\" % (optim, m))\n",
    "    \n",
    "        # labels (parameters used)\n",
    "        xs = []\n",
    "        \n",
    "        # values (arrays) for repetitions\n",
    "        ys = []\n",
    "    \n",
    "        # going over parameters\n",
    "        for p in param_groups[optim]:\n",
    "            varying_params = dict_select(p, varying[optim])\n",
    "            #print(varying_params)\n",
    "            #print(dict_to_stat(param_to_result(p)))\n",
    "            res = param_to_result(p, parameters, params_to_processed)\n",
    "            if res is not None:\n",
    "                ys.append(res[m])\n",
    "                xs.append(shorten_dict(varying_params))\n",
    "        data_for_metric[m] = (xs, ys)\n",
    "        \n",
    "    def plot_one(ax, i):\n",
    "        \"\"\" Plot one box plot for metric i at axis ax \"\"\"\n",
    "        m = all_metrics[i] # current metric\n",
    "        xs, ys = data_for_metric[m] # current data\n",
    "        # plotting\n",
    "        if xs:\n",
    "            assert len(xs) == len(ys)\n",
    "            ax.boxplot(ys, labels = xs)\n",
    "    subplots(3, 3, all_metrics, plot_one, (5, 5))"
   ]
  },
  {
   "cell_type": "markdown",
   "metadata": {},
   "source": [
    "### Batch size\n",
    "Frank-Wolfe:batch size 1000-10K has almost no effect, a bit worse at 60K\n",
    "\n",
    "Adam/SGD: Increase batch size -> decrease accuracy, increase loss. Hessian becomes a bit worse at 60K, but mostly decreases.\n",
    "\n",
    "### Big\n",
    "\n",
    "SGD: With decrease of learning rate, train/test accuracy decreases, loss increases, p-norm decreases and largest eigenvalues decrease. Choising LR=1\n",
    "\n",
    "Frank-Wolfe Stochastic (g=-1). r = -1 gives best accuracy, constant rs are worse, the more the worse. p-norm decreases with accuracy, eigenvalues also decrease (max/mean). Constant gamma/rho give poor results\n",
    "\n",
    "Frank-Wolfe deterministic: no data\n",
    "\n",
    "Adam: with decrease of the learning rate, train accuracy decreases, sharp decrease for 0.0001. Hessian eigenvalues increase. Choosing LR = 0.001"
   ]
  },
  {
   "cell_type": "code",
   "execution_count": 49,
   "metadata": {},
   "outputs": [
    {
     "name": "stdout",
     "output_type": "stream",
     "text": [
      "sgd {'learning_rate': 0.1}\n",
      "frankwolfe_stochastic {'gamma': -1.0, 'ro': -1.0}\n",
      "frankwolfe_deterministic {'gamma': -1.0}\n",
      "adam {'learning_rate': 0.01}\n"
     ]
    }
   ],
   "source": [
    "# printing best parameters\n",
    "for optim in param_groups.keys():\n",
    "    idx = select_best(optim, parameters, param_groups, params_to_processed) # best hyperparameter idx\n",
    "    p = parameters[idx] # best hyperparameters\n",
    "    print(optim, dict_select(p, varying[optim]))"
   ]
  },
  {
   "cell_type": "code",
   "execution_count": 50,
   "metadata": {},
   "outputs": [],
   "source": [
    "# final result for all optimizers (best)\n",
    "data_for_optimizers = {}\n",
    "\n",
    "# loop over metrics\n",
    "for m in all_metrics:\n",
    "    xs = [] # optimizers\n",
    "    ys = [] # data for optimizers\n",
    "\n",
    "    # print final results\n",
    "    for optim in param_groups.keys():\n",
    "        idx = select_best(optim, parameters, param_groups, params_to_processed) # best hyperparameter\n",
    "        p = params_to_processed[idx]\n",
    "        if p is not None:\n",
    "            xs.append(shorten_name(optim))\n",
    "            ys.append(p[m])\n",
    "    \n",
    "    # saving data...\n",
    "    data_for_optimizers[m] = (xs, ys)"
   ]
  },
  {
   "cell_type": "code",
   "execution_count": 51,
   "metadata": {},
   "outputs": [
    {
     "data": {
      "text/plain": [
       "<Figure size 432x288 with 0 Axes>"
      ]
     },
     "metadata": {},
     "output_type": "display_data"
    },
    {
     "data": {
      "image/png": "[encoded data removed]",
      "text/plain": [
       "<Figure size 360x504 with 7 Axes>"
      ]
     },
     "metadata": {
      "needs_background": "light"
     },
     "output_type": "display_data"
    }
   ],
   "source": [
    "def plot_one(ax, i):\n",
    "    \"\"\" Plot one box plot for metric i at axis ax \"\"\"\n",
    "    m = all_metrics[i] # current metric\n",
    "    xs, ys = data_for_optimizers[m] # current data\n",
    "    # plotting\n",
    "    if xs:\n",
    "        assert len(xs) == len(ys)\n",
    "        ax.boxplot(ys, labels = xs)\n",
    "    if i % 2 == 1:\n",
    "        ax.yaxis.tick_right()\n",
    "    if m == 'hessian_eigens_mean':\n",
    "        #ax.yaxis.set_major_formatter(OOMFormatter(-4, \"%1.1f\"))\n",
    "        ax.ticklabel_format(style='sci',scilimits=(-3,4),axis='y')\n",
    "        pass\n",
    "plt.subplots_adjust(wspace = 1)\n",
    "subplots(4, 2, all_metrics, plot_one, (5, 7), 'best_' + setting_name)\n",
    "plt.show()"
   ]
  },
  {
   "cell_type": "markdown",
   "metadata": {},
   "source": [
    "### Batch size\n",
    "Best accuracy: FW and Adam. Stochastic much better than deterministic for accuracy.\n",
    "\n",
    "Hessian is a bit better for FW than for Adam\n",
    "\n",
    "### Big\n",
    "\n",
    "SGD: high variance, low Hessian\n",
    "\n",
    "FW: high accuracy (a bit lower than Adam), low p-norm, high Hessian, hood generalization\n",
    "\n",
    "Adam: highest accuracy, low variance, high p-norm, low Hessian, good generalization"
   ]
  },
  {
   "cell_type": "code",
   "execution_count": null,
   "metadata": {},
   "outputs": [],
   "source": []
  }
 ],
 "metadata": {
  "kernelspec": {
   "display_name": "Python 3",
   "language": "python",
   "name": "python3"
  },
  "language_info": {
   "codemirror_mode": {
    "name": "ipython",
    "version": 3
   },
   "file_extension": ".py",
   "mimetype": "text/x-python",
   "name": "python",
   "nbconvert_exporter": "python",
   "pygments_lexer": "ipython3",
   "version": "3.7.2"
  }
 },
 "nbformat": 4,
 "nbformat_minor": 2
}
