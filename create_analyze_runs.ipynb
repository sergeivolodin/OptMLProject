{
 "cells": [
  {
   "cell_type": "code",
   "execution_count": 119,
   "metadata": {},
   "outputs": [],
   "source": [
    "import numpy as np\n",
    "%matplotlib inline\n",
    "from matplotlib import pyplot as plt"
   ]
  },
  {
   "cell_type": "code",
   "execution_count": 367,
   "metadata": {},
   "outputs": [],
   "source": [
    "# OLD\n",
    "etas = [0.1]\n",
    "batches = [256]\n",
    "epochs = [20]\n",
    "rhos = [-1.0] + list(np.linspace(0., 1, 7))\n",
    "mus = np.linspace(0., 1, 7)\n",
    "repetitions = 7"
   ]
  },
  {
   "cell_type": "code",
   "execution_count": 344,
   "metadata": {},
   "outputs": [
    {
     "name": "stdout",
     "output_type": "stream",
     "text": [
      "[0.0, 0.16666666666666666, 0.3333333333333333, 0.5, 0.6666666666666666, 0.8333333333333333, 1.0, -1] [0.         0.16666667 0.33333333 0.5        0.66666667 0.83333333\n",
      " 1.        ]\n"
     ]
    }
   ],
   "source": [
    "print(rhos, mus)"
   ]
  },
  {
   "cell_type": "code",
   "execution_count": 95,
   "metadata": {
    "deletable": false,
    "editable": false,
    "run_control": {
     "frozen": true
    }
   },
   "outputs": [],
   "source": [
    "# new (fine-grained)\n",
    "etas = [0.1]\n",
    "batches = [256]\n",
    "epochs = [20]\n",
    "rhos = np.linspace(0.6, 0.8, 5)\n",
    "mus = np.linspace(0.4, 0.6, 5)"
   ]
  },
  {
   "cell_type": "code",
   "execution_count": 345,
   "metadata": {},
   "outputs": [
    {
     "data": {
      "text/plain": [
       "[0.0,\n",
       " 0.16666666666666666,\n",
       " 0.3333333333333333,\n",
       " 0.5,\n",
       " 0.6666666666666666,\n",
       " 0.8333333333333333,\n",
       " 1.0,\n",
       " -1]"
      ]
     },
     "execution_count": 345,
     "metadata": {},
     "output_type": "execute_result"
    }
   ],
   "source": [
    "rhos"
   ]
  },
  {
   "cell_type": "code",
   "execution_count": null,
   "metadata": {},
   "outputs": [],
   "source": []
  },
  {
   "cell_type": "code",
   "execution_count": 363,
   "metadata": {},
   "outputs": [],
   "source": [
    "def print_nice(y):\n",
    "    if isinstance(y, float):\n",
    "        return str(round(y, 2))#'%.2g' % y\n",
    "    return str(y)"
   ]
  },
  {
   "cell_type": "code",
   "execution_count": 347,
   "metadata": {},
   "outputs": [],
   "source": [
    "def print_one(**kwargs):\n",
    "    print('python experiment.py ' + \" \".join(['--' + x + ' ' + print_nice(y) for x, y in kwargs.items()]) + ' &')"
   ]
  },
  {
   "cell_type": "code",
   "execution_count": 348,
   "metadata": {},
   "outputs": [],
   "source": [
    "def get_file(**kwargs):\n",
    "    return (\"_\".join([x + '-' + print_nice(y) for x, y in kwargs.items()])+'.output')"
   ]
  },
  {
   "cell_type": "code",
   "execution_count": 349,
   "metadata": {},
   "outputs": [
    {
     "name": "stdout",
     "output_type": "stream",
     "text": [
      "aba-caba_dd-dd.output\n",
      "python experiment.py --aba caba --dd dd &\n"
     ]
    }
   ],
   "source": [
    "print(get_file(aba = 'caba', dd = 'dd'))\n",
    "print_one(aba = 'caba', dd = 'dd')"
   ]
  },
  {
   "cell_type": "code",
   "execution_count": 350,
   "metadata": {
    "scrolled": true
   },
   "outputs": [
    {
     "name": "stdout",
     "output_type": "stream",
     "text": [
      "python experiment.py --iteration 0 --eta 0.10 --rho 0.00 --mu 0 --epochs 20 --train_batch_size 256 &\n",
      "python experiment.py --iteration 0 --eta 0.10 --rho 0.17 --mu 0 --epochs 20 --train_batch_size 256 &\n",
      "python experiment.py --iteration 0 --eta 0.10 --rho 0.33 --mu 0 --epochs 20 --train_batch_size 256 &\n",
      "python experiment.py --iteration 0 --eta 0.10 --rho 0.50 --mu 0 --epochs 20 --train_batch_size 256 &\n",
      "python experiment.py --iteration 0 --eta 0.10 --rho 0.67 --mu 0 --epochs 20 --train_batch_size 256 &\n",
      "python experiment.py --iteration 0 --eta 0.10 --rho 0.83 --mu 0 --epochs 20 --train_batch_size 256 &\n",
      "python experiment.py --iteration 0 --eta 0.10 --rho 1.00 --mu 0 --epochs 20 --train_batch_size 256 &\n",
      "python experiment.py --iteration 0 --eta 0.10 --rho -1 --mu 0 --epochs 20 --train_batch_size 256 &\n",
      "python experiment.py --iteration 0 --eta 0.10 --rho 0 --mu 0.00 --epochs 20 --train_batch_size 256 &\n",
      "python experiment.py --iteration 0 --eta 0.10 --rho 0 --mu 0.17 --epochs 20 --train_batch_size 256 &\n",
      "python experiment.py --iteration 0 --eta 0.10 --rho 0 --mu 0.33 --epochs 20 --train_batch_size 256 &\n",
      "python experiment.py --iteration 0 --eta 0.10 --rho 0 --mu 0.50 --epochs 20 --train_batch_size 256 &\n",
      "python experiment.py --iteration 0 --eta 0.10 --rho 0 --mu 0.67 --epochs 20 --train_batch_size 256 &\n",
      "python experiment.py --iteration 0 --eta 0.10 --rho 0 --mu 0.83 --epochs 20 --train_batch_size 256 &\n",
      "python experiment.py --iteration 0 --eta 0.10 --rho 0 --mu 1.00 --epochs 20 --train_batch_size 256 &\n",
      "python experiment.py --iteration 1 --eta 0.10 --rho 0.00 --mu 0 --epochs 20 --train_batch_size 256 &\n",
      "python experiment.py --iteration 1 --eta 0.10 --rho 0.17 --mu 0 --epochs 20 --train_batch_size 256 &\n",
      "python experiment.py --iteration 1 --eta 0.10 --rho 0.33 --mu 0 --epochs 20 --train_batch_size 256 &\n",
      "python experiment.py --iteration 1 --eta 0.10 --rho 0.50 --mu 0 --epochs 20 --train_batch_size 256 &\n",
      "python experiment.py --iteration 1 --eta 0.10 --rho 0.67 --mu 0 --epochs 20 --train_batch_size 256 &\n",
      "python experiment.py --iteration 1 --eta 0.10 --rho 0.83 --mu 0 --epochs 20 --train_batch_size 256 &\n",
      "python experiment.py --iteration 1 --eta 0.10 --rho 1.00 --mu 0 --epochs 20 --train_batch_size 256 &\n",
      "python experiment.py --iteration 1 --eta 0.10 --rho -1 --mu 0 --epochs 20 --train_batch_size 256 &\n",
      "python experiment.py --iteration 1 --eta 0.10 --rho 0 --mu 0.00 --epochs 20 --train_batch_size 256 &\n",
      "python experiment.py --iteration 1 --eta 0.10 --rho 0 --mu 0.17 --epochs 20 --train_batch_size 256 &\n",
      "python experiment.py --iteration 1 --eta 0.10 --rho 0 --mu 0.33 --epochs 20 --train_batch_size 256 &\n",
      "python experiment.py --iteration 1 --eta 0.10 --rho 0 --mu 0.50 --epochs 20 --train_batch_size 256 &\n",
      "python experiment.py --iteration 1 --eta 0.10 --rho 0 --mu 0.67 --epochs 20 --train_batch_size 256 &\n",
      "python experiment.py --iteration 1 --eta 0.10 --rho 0 --mu 0.83 --epochs 20 --train_batch_size 256 &\n",
      "python experiment.py --iteration 1 --eta 0.10 --rho 0 --mu 1.00 --epochs 20 --train_batch_size 256 &\n",
      "python experiment.py --iteration 2 --eta 0.10 --rho 0.00 --mu 0 --epochs 20 --train_batch_size 256 &\n",
      "python experiment.py --iteration 2 --eta 0.10 --rho 0.17 --mu 0 --epochs 20 --train_batch_size 256 &\n",
      "python experiment.py --iteration 2 --eta 0.10 --rho 0.33 --mu 0 --epochs 20 --train_batch_size 256 &\n",
      "python experiment.py --iteration 2 --eta 0.10 --rho 0.50 --mu 0 --epochs 20 --train_batch_size 256 &\n",
      "python experiment.py --iteration 2 --eta 0.10 --rho 0.67 --mu 0 --epochs 20 --train_batch_size 256 &\n",
      "python experiment.py --iteration 2 --eta 0.10 --rho 0.83 --mu 0 --epochs 20 --train_batch_size 256 &\n",
      "python experiment.py --iteration 2 --eta 0.10 --rho 1.00 --mu 0 --epochs 20 --train_batch_size 256 &\n",
      "python experiment.py --iteration 2 --eta 0.10 --rho -1 --mu 0 --epochs 20 --train_batch_size 256 &\n",
      "python experiment.py --iteration 2 --eta 0.10 --rho 0 --mu 0.00 --epochs 20 --train_batch_size 256 &\n",
      "python experiment.py --iteration 2 --eta 0.10 --rho 0 --mu 0.17 --epochs 20 --train_batch_size 256 &\n",
      "python experiment.py --iteration 2 --eta 0.10 --rho 0 --mu 0.33 --epochs 20 --train_batch_size 256 &\n",
      "python experiment.py --iteration 2 --eta 0.10 --rho 0 --mu 0.50 --epochs 20 --train_batch_size 256 &\n",
      "python experiment.py --iteration 2 --eta 0.10 --rho 0 --mu 0.67 --epochs 20 --train_batch_size 256 &\n",
      "python experiment.py --iteration 2 --eta 0.10 --rho 0 --mu 0.83 --epochs 20 --train_batch_size 256 &\n",
      "python experiment.py --iteration 2 --eta 0.10 --rho 0 --mu 1.00 --epochs 20 --train_batch_size 256 &\n",
      "python experiment.py --iteration 3 --eta 0.10 --rho 0.00 --mu 0 --epochs 20 --train_batch_size 256 &\n",
      "python experiment.py --iteration 3 --eta 0.10 --rho 0.17 --mu 0 --epochs 20 --train_batch_size 256 &\n",
      "python experiment.py --iteration 3 --eta 0.10 --rho 0.33 --mu 0 --epochs 20 --train_batch_size 256 &\n",
      "python experiment.py --iteration 3 --eta 0.10 --rho 0.50 --mu 0 --epochs 20 --train_batch_size 256 &\n",
      "python experiment.py --iteration 3 --eta 0.10 --rho 0.67 --mu 0 --epochs 20 --train_batch_size 256 &\n",
      "python experiment.py --iteration 3 --eta 0.10 --rho 0.83 --mu 0 --epochs 20 --train_batch_size 256 &\n",
      "python experiment.py --iteration 3 --eta 0.10 --rho 1.00 --mu 0 --epochs 20 --train_batch_size 256 &\n",
      "python experiment.py --iteration 3 --eta 0.10 --rho -1 --mu 0 --epochs 20 --train_batch_size 256 &\n",
      "python experiment.py --iteration 3 --eta 0.10 --rho 0 --mu 0.00 --epochs 20 --train_batch_size 256 &\n",
      "python experiment.py --iteration 3 --eta 0.10 --rho 0 --mu 0.17 --epochs 20 --train_batch_size 256 &\n",
      "python experiment.py --iteration 3 --eta 0.10 --rho 0 --mu 0.33 --epochs 20 --train_batch_size 256 &\n",
      "python experiment.py --iteration 3 --eta 0.10 --rho 0 --mu 0.50 --epochs 20 --train_batch_size 256 &\n",
      "python experiment.py --iteration 3 --eta 0.10 --rho 0 --mu 0.67 --epochs 20 --train_batch_size 256 &\n",
      "python experiment.py --iteration 3 --eta 0.10 --rho 0 --mu 0.83 --epochs 20 --train_batch_size 256 &\n",
      "python experiment.py --iteration 3 --eta 0.10 --rho 0 --mu 1.00 --epochs 20 --train_batch_size 256 &\n",
      "python experiment.py --iteration 4 --eta 0.10 --rho 0.00 --mu 0 --epochs 20 --train_batch_size 256 &\n",
      "python experiment.py --iteration 4 --eta 0.10 --rho 0.17 --mu 0 --epochs 20 --train_batch_size 256 &\n",
      "python experiment.py --iteration 4 --eta 0.10 --rho 0.33 --mu 0 --epochs 20 --train_batch_size 256 &\n",
      "python experiment.py --iteration 4 --eta 0.10 --rho 0.50 --mu 0 --epochs 20 --train_batch_size 256 &\n",
      "python experiment.py --iteration 4 --eta 0.10 --rho 0.67 --mu 0 --epochs 20 --train_batch_size 256 &\n",
      "python experiment.py --iteration 4 --eta 0.10 --rho 0.83 --mu 0 --epochs 20 --train_batch_size 256 &\n",
      "python experiment.py --iteration 4 --eta 0.10 --rho 1.00 --mu 0 --epochs 20 --train_batch_size 256 &\n",
      "python experiment.py --iteration 4 --eta 0.10 --rho -1 --mu 0 --epochs 20 --train_batch_size 256 &\n",
      "python experiment.py --iteration 4 --eta 0.10 --rho 0 --mu 0.00 --epochs 20 --train_batch_size 256 &\n",
      "python experiment.py --iteration 4 --eta 0.10 --rho 0 --mu 0.17 --epochs 20 --train_batch_size 256 &\n",
      "python experiment.py --iteration 4 --eta 0.10 --rho 0 --mu 0.33 --epochs 20 --train_batch_size 256 &\n",
      "python experiment.py --iteration 4 --eta 0.10 --rho 0 --mu 0.50 --epochs 20 --train_batch_size 256 &\n",
      "python experiment.py --iteration 4 --eta 0.10 --rho 0 --mu 0.67 --epochs 20 --train_batch_size 256 &\n",
      "python experiment.py --iteration 4 --eta 0.10 --rho 0 --mu 0.83 --epochs 20 --train_batch_size 256 &\n",
      "python experiment.py --iteration 4 --eta 0.10 --rho 0 --mu 1.00 --epochs 20 --train_batch_size 256 &\n",
      "python experiment.py --iteration 5 --eta 0.10 --rho 0.00 --mu 0 --epochs 20 --train_batch_size 256 &\n",
      "python experiment.py --iteration 5 --eta 0.10 --rho 0.17 --mu 0 --epochs 20 --train_batch_size 256 &\n",
      "python experiment.py --iteration 5 --eta 0.10 --rho 0.33 --mu 0 --epochs 20 --train_batch_size 256 &\n",
      "python experiment.py --iteration 5 --eta 0.10 --rho 0.50 --mu 0 --epochs 20 --train_batch_size 256 &\n",
      "python experiment.py --iteration 5 --eta 0.10 --rho 0.67 --mu 0 --epochs 20 --train_batch_size 256 &\n",
      "python experiment.py --iteration 5 --eta 0.10 --rho 0.83 --mu 0 --epochs 20 --train_batch_size 256 &\n",
      "python experiment.py --iteration 5 --eta 0.10 --rho 1.00 --mu 0 --epochs 20 --train_batch_size 256 &\n",
      "python experiment.py --iteration 5 --eta 0.10 --rho -1 --mu 0 --epochs 20 --train_batch_size 256 &\n",
      "python experiment.py --iteration 5 --eta 0.10 --rho 0 --mu 0.00 --epochs 20 --train_batch_size 256 &\n",
      "python experiment.py --iteration 5 --eta 0.10 --rho 0 --mu 0.17 --epochs 20 --train_batch_size 256 &\n",
      "python experiment.py --iteration 5 --eta 0.10 --rho 0 --mu 0.33 --epochs 20 --train_batch_size 256 &\n",
      "python experiment.py --iteration 5 --eta 0.10 --rho 0 --mu 0.50 --epochs 20 --train_batch_size 256 &\n",
      "python experiment.py --iteration 5 --eta 0.10 --rho 0 --mu 0.67 --epochs 20 --train_batch_size 256 &\n",
      "python experiment.py --iteration 5 --eta 0.10 --rho 0 --mu 0.83 --epochs 20 --train_batch_size 256 &\n",
      "python experiment.py --iteration 5 --eta 0.10 --rho 0 --mu 1.00 --epochs 20 --train_batch_size 256 &\n",
      "python experiment.py --iteration 6 --eta 0.10 --rho 0.00 --mu 0 --epochs 20 --train_batch_size 256 &\n",
      "python experiment.py --iteration 6 --eta 0.10 --rho 0.17 --mu 0 --epochs 20 --train_batch_size 256 &\n",
      "python experiment.py --iteration 6 --eta 0.10 --rho 0.33 --mu 0 --epochs 20 --train_batch_size 256 &\n",
      "python experiment.py --iteration 6 --eta 0.10 --rho 0.50 --mu 0 --epochs 20 --train_batch_size 256 &\n",
      "python experiment.py --iteration 6 --eta 0.10 --rho 0.67 --mu 0 --epochs 20 --train_batch_size 256 &\n",
      "python experiment.py --iteration 6 --eta 0.10 --rho 0.83 --mu 0 --epochs 20 --train_batch_size 256 &\n",
      "python experiment.py --iteration 6 --eta 0.10 --rho 1.00 --mu 0 --epochs 20 --train_batch_size 256 &\n",
      "python experiment.py --iteration 6 --eta 0.10 --rho -1 --mu 0 --epochs 20 --train_batch_size 256 &\n",
      "python experiment.py --iteration 6 --eta 0.10 --rho 0 --mu 0.00 --epochs 20 --train_batch_size 256 &\n",
      "python experiment.py --iteration 6 --eta 0.10 --rho 0 --mu 0.17 --epochs 20 --train_batch_size 256 &\n",
      "python experiment.py --iteration 6 --eta 0.10 --rho 0 --mu 0.33 --epochs 20 --train_batch_size 256 &\n",
      "python experiment.py --iteration 6 --eta 0.10 --rho 0 --mu 0.50 --epochs 20 --train_batch_size 256 &\n",
      "python experiment.py --iteration 6 --eta 0.10 --rho 0 --mu 0.67 --epochs 20 --train_batch_size 256 &\n",
      "python experiment.py --iteration 6 --eta 0.10 --rho 0 --mu 0.83 --epochs 20 --train_batch_size 256 &\n",
      "python experiment.py --iteration 6 --eta 0.10 --rho 0 --mu 1.00 --epochs 20 --train_batch_size 256 &\n",
      "Total runs:  105\n",
      "Total time:  17.5\n"
     ]
    }
   ],
   "source": [
    "it = 0\n",
    "for rounds in range(repetitions):\n",
    "    for eta in etas:\n",
    "        for b in batches:\n",
    "            for e in epochs:\n",
    "                for rho in rhos:\n",
    "                    mu = 0\n",
    "                    print_one(iteration = rounds, eta = eta, rho = rho, mu = mu, epochs = e, train_batch_size = b)\n",
    "                    it += 1\n",
    "                for mu in mus:\n",
    "                    rho = 0\n",
    "                    print_one(iteration = rounds, eta = eta, rho = rho, mu = mu, epochs = e, train_batch_size = b)\n",
    "                    it += 1\n",
    "print('Total runs: ', it)\n",
    "print('Total time: ', it / 6)"
   ]
  },
  {
   "cell_type": "code",
   "execution_count": 352,
   "metadata": {},
   "outputs": [],
   "source": [
    "def process_dict(d, do_plot = False):\n",
    "    if do_plot:\n",
    "        plt.title('Train loss')\n",
    "        plt.plot(d['train_batch_losses'])\n",
    "        plt.show()\n",
    "        plt.title('Train accuracy')\n",
    "        plt.plot(d['train_batch_accs'])\n",
    "        plt.show()\n",
    "    del d['train_batch_losses'], d['train_batch_accs']\n",
    "    return d"
   ]
  },
  {
   "cell_type": "code",
   "execution_count": 353,
   "metadata": {},
   "outputs": [],
   "source": [
    "def process_file(f):\n",
    "    f = open(f, 'r').read()\n",
    "    d = eval(f)\n",
    "    return process_dict(d)"
   ]
  },
  {
   "cell_type": "code",
   "execution_count": 354,
   "metadata": {},
   "outputs": [],
   "source": [
    "def process_files(params, param_name, files):\n",
    "    \"\"\" files -- list of lists \"\"\"\n",
    "    \n",
    "    # files\n",
    "    # list of lists of files\n",
    "    # [param_id][round]\n",
    "    \n",
    "    # dictionary key (accuracy) -> [param_id][round]\n",
    "    quantities = {}\n",
    "    for param_id, param_sets in enumerate(files):\n",
    "        for round_id, f in enumerate(param_sets):\n",
    "            try:\n",
    "                d = process_file(f)\n",
    "            except:\n",
    "                print(f + \" NO FILE\")\n",
    "                continue\n",
    "            #print(d)\n",
    "            for x, y in d.items():\n",
    "            #print(y)\n",
    "            # add quantities[x][param_id][round_id] = y\n",
    "                if x not in quantities:\n",
    "                    quantities[x] = [[]] * len(files)\n",
    "                #print(quantities[x], param_id)\n",
    "                #print(param_id)\n",
    "                if param_id == 0 and x == 'train_accuracy':\n",
    "                    print(param_id, round_id, x, y)\n",
    "                    quantities[x][param_id].append(y)\n",
    "            \n",
    "            \n",
    "    #print(len(quantities['train_accuracy']), len(quantities['train_accuracy'][0]))\n",
    "    \n",
    "    #print(quantities['train_accuracy'][0])\n",
    "    \n",
    "    return\n",
    "    \n",
    "    for x, y in quantities.items():\n",
    "        print(x + \": min/max \" + str(np.min(y)) + \"/\" + str(np.max(y)))\n",
    "            \n",
    "    plt.figure()\n",
    "    plt.title('Accuracy over ' + param_name)\n",
    "    plt.plot(params, quantities['test_accuracy'], label = 'Test accuracy')\n",
    "    plt.plot(params, quantities['train_accuracy'], label = 'Test accuracy')\n",
    "    plt.legend()\n",
    "    plt.show()\n",
    "    \n",
    "    plt.figure()\n",
    "    plt.title('Loss over ' + param_name)\n",
    "    plt.plot(params, quantities['test_loss'], label = 'Test loss')\n",
    "    plt.plot(params, quantities['train_loss'], label = 'Test loss')\n",
    "    plt.legend()\n",
    "    plt.show()"
   ]
  },
  {
   "cell_type": "code",
   "execution_count": 360,
   "metadata": {},
   "outputs": [],
   "source": [
    "def process_files(params, name, fs):\n",
    "    \"\"\"\n",
    "    Input: params: array of len N with parameter values\n",
    "    name: Name of the parameter\n",
    "    fs: 2D array N x R where R = repetitions\n",
    "    \"\"\"\n",
    "    \n",
    "    # dictionary quantity -> 2D array N x R\n",
    "    results = {}\n",
    "    \n",
    "    for param_id, rounds in enumerate(fs):\n",
    "        #print(param_id, rounds)\n",
    "        for round_id, f in enumerate(rounds):\n",
    "            try:\n",
    "                d = process_file(f)\n",
    "            except:\n",
    "                print('MISSING', f)\n",
    "                continue\n",
    "            for x, y in d.items():\n",
    "                if x not in results:\n",
    "                    results[x] = np.zeros((len(fs), len(rounds)))\n",
    "                #print('APPEND', x, param_id, y)\n",
    "                results[x][param_id][round_id] = y\n",
    "                    \n",
    "    for metric, values in results.items():\n",
    "        plt.figure()\n",
    "        plt.title(metric + '/' + name)\n",
    "        means = np.mean(values, axis = 1)\n",
    "        print('Highest mean', np.max(means), params[np.argmax(means)])\n",
    "        stds = np.std(values, axis = 1)\n",
    "        plt.plot(params, means)\n",
    "        plt.fill_between(params, means - stds, means + stds, alpha = 0.5)\n",
    "        plt.show()"
   ]
  },
  {
   "cell_type": "code",
   "execution_count": null,
   "metadata": {},
   "outputs": [],
   "source": []
  },
  {
   "cell_type": "code",
   "execution_count": 368,
   "metadata": {
    "scrolled": true
   },
   "outputs": [
    {
     "name": "stdout",
     "output_type": "stream",
     "text": [
      "Highest mean 91.6503767882002 0.3333333333333333\n"
     ]
    },
    {
     "data": {
      "image/png": "[encoded data removed]",
      "text/plain": [
       "<Figure size 432x288 with 1 Axes>"
      ]
     },
     "metadata": {
      "needs_background": "light"
     },
     "output_type": "display_data"
    },
    {
     "name": "stdout",
     "output_type": "stream",
     "text": [
      "Highest mean 0.21505806440368608 0.6666666666666666\n"
     ]
    },
    {
     "data": {
      "image/png": "[encoded data removed]",
      "text/plain": [
       "<Figure size 432x288 with 1 Axes>"
      ]
     },
     "metadata": {
      "needs_background": "light"
     },
     "output_type": "display_data"
    },
    {
     "name": "stdout",
     "output_type": "stream",
     "text": [
      "Highest mean 92.13199768066406 0.3333333333333333\n"
     ]
    },
    {
     "data": {
      "image/png": "[encoded data removed]",
      "text/plain": [
       "<Figure size 432x288 with 1 Axes>"
      ]
     },
     "metadata": {
      "needs_background": "light"
     },
     "output_type": "display_data"
    },
    {
     "name": "stdout",
     "output_type": "stream",
     "text": [
      "Highest mean 0.21138123869895936 0.6666666666666666\n"
     ]
    },
    {
     "data": {
      "image/png": "[encoded data removed]",
      "text/plain": [
       "<Figure size 432x288 with 1 Axes>"
      ]
     },
     "metadata": {
      "needs_background": "light"
     },
     "output_type": "display_data"
    }
   ],
   "source": [
    "for eta in etas:\n",
    "    for b in batches:\n",
    "        for e in epochs:\n",
    "            fs = [[get_file(eta = eta, rho = rho, mu = 0.0, epochs = e,\n",
    "                           train_batch_size = b, iteration = rounds)\n",
    "                   for rounds in range(5)] for rho in rhos]\n",
    "            #print(fs[0])\n",
    "            process_files(rhos, 'rho', fs)"
   ]
  },
  {
   "cell_type": "code",
   "execution_count": 369,
   "metadata": {},
   "outputs": [
    {
     "name": "stdout",
     "output_type": "stream",
     "text": [
      "Highest mean 92.71088210085604 0.16666666666666666\n"
     ]
    },
    {
     "ename": "ValueError",
     "evalue": "x and y must have same first dimension, but have shapes (8,) and (7,)",
     "output_type": "error",
     "traceback": [
      "\u001b[0;31m---------------------------------------------------------------------------\u001b[0m",
      "\u001b[0;31mValueError\u001b[0m                                Traceback (most recent call last)",
      "\u001b[0;32m<ipython-input-369-41683d86335f>\u001b[0m in \u001b[0;36m<module>\u001b[0;34m\u001b[0m\n\u001b[1;32m      6\u001b[0m                    for rounds in range(5)] for mu in mus]\n\u001b[1;32m      7\u001b[0m             \u001b[0;31m#print(fs[0])\u001b[0m\u001b[0;34m\u001b[0m\u001b[0;34m\u001b[0m\u001b[0;34m\u001b[0m\u001b[0m\n\u001b[0;32m----> 8\u001b[0;31m             \u001b[0mprocess_files\u001b[0m\u001b[0;34m(\u001b[0m\u001b[0mrhos\u001b[0m\u001b[0;34m,\u001b[0m \u001b[0;34m'mu'\u001b[0m\u001b[0;34m,\u001b[0m \u001b[0mfs\u001b[0m\u001b[0;34m)\u001b[0m\u001b[0;34m\u001b[0m\u001b[0;34m\u001b[0m\u001b[0m\n\u001b[0m",
      "\u001b[0;32m<ipython-input-360-cb15f3beb313>\u001b[0m in \u001b[0;36mprocess_files\u001b[0;34m(params, name, fs)\u001b[0m\n\u001b[1;32m     29\u001b[0m         \u001b[0mprint\u001b[0m\u001b[0;34m(\u001b[0m\u001b[0;34m'Highest mean'\u001b[0m\u001b[0;34m,\u001b[0m \u001b[0mnp\u001b[0m\u001b[0;34m.\u001b[0m\u001b[0mmax\u001b[0m\u001b[0;34m(\u001b[0m\u001b[0mmeans\u001b[0m\u001b[0;34m)\u001b[0m\u001b[0;34m,\u001b[0m \u001b[0mparams\u001b[0m\u001b[0;34m[\u001b[0m\u001b[0mnp\u001b[0m\u001b[0;34m.\u001b[0m\u001b[0margmax\u001b[0m\u001b[0;34m(\u001b[0m\u001b[0mmeans\u001b[0m\u001b[0;34m)\u001b[0m\u001b[0;34m]\u001b[0m\u001b[0;34m)\u001b[0m\u001b[0;34m\u001b[0m\u001b[0;34m\u001b[0m\u001b[0m\n\u001b[1;32m     30\u001b[0m         \u001b[0mstds\u001b[0m \u001b[0;34m=\u001b[0m \u001b[0mnp\u001b[0m\u001b[0;34m.\u001b[0m\u001b[0mstd\u001b[0m\u001b[0;34m(\u001b[0m\u001b[0mvalues\u001b[0m\u001b[0;34m,\u001b[0m \u001b[0maxis\u001b[0m \u001b[0;34m=\u001b[0m \u001b[0;36m1\u001b[0m\u001b[0;34m)\u001b[0m\u001b[0;34m\u001b[0m\u001b[0;34m\u001b[0m\u001b[0m\n\u001b[0;32m---> 31\u001b[0;31m         \u001b[0mplt\u001b[0m\u001b[0;34m.\u001b[0m\u001b[0mplot\u001b[0m\u001b[0;34m(\u001b[0m\u001b[0mparams\u001b[0m\u001b[0;34m,\u001b[0m \u001b[0mmeans\u001b[0m\u001b[0;34m)\u001b[0m\u001b[0;34m\u001b[0m\u001b[0;34m\u001b[0m\u001b[0m\n\u001b[0m\u001b[1;32m     32\u001b[0m         \u001b[0mplt\u001b[0m\u001b[0;34m.\u001b[0m\u001b[0mfill_between\u001b[0m\u001b[0;34m(\u001b[0m\u001b[0mparams\u001b[0m\u001b[0;34m,\u001b[0m \u001b[0mmeans\u001b[0m \u001b[0;34m-\u001b[0m \u001b[0mstds\u001b[0m\u001b[0;34m,\u001b[0m \u001b[0mmeans\u001b[0m \u001b[0;34m+\u001b[0m \u001b[0mstds\u001b[0m\u001b[0;34m,\u001b[0m \u001b[0malpha\u001b[0m \u001b[0;34m=\u001b[0m \u001b[0;36m0.5\u001b[0m\u001b[0;34m)\u001b[0m\u001b[0;34m\u001b[0m\u001b[0;34m\u001b[0m\u001b[0m\n\u001b[1;32m     33\u001b[0m         \u001b[0mplt\u001b[0m\u001b[0;34m.\u001b[0m\u001b[0mshow\u001b[0m\u001b[0;34m(\u001b[0m\u001b[0;34m)\u001b[0m\u001b[0;34m\u001b[0m\u001b[0;34m\u001b[0m\u001b[0m\n",
      "\u001b[0;32m~/miniconda3/envs/neuronfailure/lib/python3.6/site-packages/matplotlib/pyplot.py\u001b[0m in \u001b[0;36mplot\u001b[0;34m(scalex, scaley, data, *args, **kwargs)\u001b[0m\n\u001b[1;32m   2811\u001b[0m     return gca().plot(\n\u001b[1;32m   2812\u001b[0m         *args, scalex=scalex, scaley=scaley, **({\"data\": data} if data\n\u001b[0;32m-> 2813\u001b[0;31m         is not None else {}), **kwargs)\n\u001b[0m\u001b[1;32m   2814\u001b[0m \u001b[0;34m\u001b[0m\u001b[0m\n\u001b[1;32m   2815\u001b[0m \u001b[0;34m\u001b[0m\u001b[0m\n",
      "\u001b[0;32m~/miniconda3/envs/neuronfailure/lib/python3.6/site-packages/matplotlib/__init__.py\u001b[0m in \u001b[0;36minner\u001b[0;34m(ax, data, *args, **kwargs)\u001b[0m\n\u001b[1;32m   1808\u001b[0m                         \u001b[0;34m\"the Matplotlib list!)\"\u001b[0m \u001b[0;34m%\u001b[0m \u001b[0;34m(\u001b[0m\u001b[0mlabel_namer\u001b[0m\u001b[0;34m,\u001b[0m \u001b[0mfunc\u001b[0m\u001b[0;34m.\u001b[0m\u001b[0m__name__\u001b[0m\u001b[0;34m)\u001b[0m\u001b[0;34m,\u001b[0m\u001b[0;34m\u001b[0m\u001b[0;34m\u001b[0m\u001b[0m\n\u001b[1;32m   1809\u001b[0m                         RuntimeWarning, stacklevel=2)\n\u001b[0;32m-> 1810\u001b[0;31m             \u001b[0;32mreturn\u001b[0m \u001b[0mfunc\u001b[0m\u001b[0;34m(\u001b[0m\u001b[0max\u001b[0m\u001b[0;34m,\u001b[0m \u001b[0;34m*\u001b[0m\u001b[0margs\u001b[0m\u001b[0;34m,\u001b[0m \u001b[0;34m**\u001b[0m\u001b[0mkwargs\u001b[0m\u001b[0;34m)\u001b[0m\u001b[0;34m\u001b[0m\u001b[0;34m\u001b[0m\u001b[0m\n\u001b[0m\u001b[1;32m   1811\u001b[0m \u001b[0;34m\u001b[0m\u001b[0m\n\u001b[1;32m   1812\u001b[0m         inner.__doc__ = _add_data_doc(inner.__doc__,\n",
      "\u001b[0;32m~/miniconda3/envs/neuronfailure/lib/python3.6/site-packages/matplotlib/axes/_axes.py\u001b[0m in \u001b[0;36mplot\u001b[0;34m(self, scalex, scaley, *args, **kwargs)\u001b[0m\n\u001b[1;32m   1609\u001b[0m         \u001b[0mkwargs\u001b[0m \u001b[0;34m=\u001b[0m \u001b[0mcbook\u001b[0m\u001b[0;34m.\u001b[0m\u001b[0mnormalize_kwargs\u001b[0m\u001b[0;34m(\u001b[0m\u001b[0mkwargs\u001b[0m\u001b[0;34m,\u001b[0m \u001b[0mmlines\u001b[0m\u001b[0;34m.\u001b[0m\u001b[0mLine2D\u001b[0m\u001b[0;34m.\u001b[0m\u001b[0m_alias_map\u001b[0m\u001b[0;34m)\u001b[0m\u001b[0;34m\u001b[0m\u001b[0;34m\u001b[0m\u001b[0m\n\u001b[1;32m   1610\u001b[0m \u001b[0;34m\u001b[0m\u001b[0m\n\u001b[0;32m-> 1611\u001b[0;31m         \u001b[0;32mfor\u001b[0m \u001b[0mline\u001b[0m \u001b[0;32min\u001b[0m \u001b[0mself\u001b[0m\u001b[0;34m.\u001b[0m\u001b[0m_get_lines\u001b[0m\u001b[0;34m(\u001b[0m\u001b[0;34m*\u001b[0m\u001b[0margs\u001b[0m\u001b[0;34m,\u001b[0m \u001b[0;34m**\u001b[0m\u001b[0mkwargs\u001b[0m\u001b[0;34m)\u001b[0m\u001b[0;34m:\u001b[0m\u001b[0;34m\u001b[0m\u001b[0;34m\u001b[0m\u001b[0m\n\u001b[0m\u001b[1;32m   1612\u001b[0m             \u001b[0mself\u001b[0m\u001b[0;34m.\u001b[0m\u001b[0madd_line\u001b[0m\u001b[0;34m(\u001b[0m\u001b[0mline\u001b[0m\u001b[0;34m)\u001b[0m\u001b[0;34m\u001b[0m\u001b[0;34m\u001b[0m\u001b[0m\n\u001b[1;32m   1613\u001b[0m             \u001b[0mlines\u001b[0m\u001b[0;34m.\u001b[0m\u001b[0mappend\u001b[0m\u001b[0;34m(\u001b[0m\u001b[0mline\u001b[0m\u001b[0;34m)\u001b[0m\u001b[0;34m\u001b[0m\u001b[0;34m\u001b[0m\u001b[0m\n",
      "\u001b[0;32m~/miniconda3/envs/neuronfailure/lib/python3.6/site-packages/matplotlib/axes/_base.py\u001b[0m in \u001b[0;36m_grab_next_args\u001b[0;34m(self, *args, **kwargs)\u001b[0m\n\u001b[1;32m    391\u001b[0m                 \u001b[0mthis\u001b[0m \u001b[0;34m+=\u001b[0m \u001b[0margs\u001b[0m\u001b[0;34m[\u001b[0m\u001b[0;36m0\u001b[0m\u001b[0;34m]\u001b[0m\u001b[0;34m,\u001b[0m\u001b[0;34m\u001b[0m\u001b[0;34m\u001b[0m\u001b[0m\n\u001b[1;32m    392\u001b[0m                 \u001b[0margs\u001b[0m \u001b[0;34m=\u001b[0m \u001b[0margs\u001b[0m\u001b[0;34m[\u001b[0m\u001b[0;36m1\u001b[0m\u001b[0;34m:\u001b[0m\u001b[0;34m]\u001b[0m\u001b[0;34m\u001b[0m\u001b[0;34m\u001b[0m\u001b[0m\n\u001b[0;32m--> 393\u001b[0;31m             \u001b[0;32myield\u001b[0m \u001b[0;32mfrom\u001b[0m \u001b[0mself\u001b[0m\u001b[0;34m.\u001b[0m\u001b[0m_plot_args\u001b[0m\u001b[0;34m(\u001b[0m\u001b[0mthis\u001b[0m\u001b[0;34m,\u001b[0m \u001b[0mkwargs\u001b[0m\u001b[0;34m)\u001b[0m\u001b[0;34m\u001b[0m\u001b[0;34m\u001b[0m\u001b[0m\n\u001b[0m\u001b[1;32m    394\u001b[0m \u001b[0;34m\u001b[0m\u001b[0m\n\u001b[1;32m    395\u001b[0m \u001b[0;34m\u001b[0m\u001b[0m\n",
      "\u001b[0;32m~/miniconda3/envs/neuronfailure/lib/python3.6/site-packages/matplotlib/axes/_base.py\u001b[0m in \u001b[0;36m_plot_args\u001b[0;34m(self, tup, kwargs)\u001b[0m\n\u001b[1;32m    368\u001b[0m             \u001b[0mx\u001b[0m\u001b[0;34m,\u001b[0m \u001b[0my\u001b[0m \u001b[0;34m=\u001b[0m \u001b[0mindex_of\u001b[0m\u001b[0;34m(\u001b[0m\u001b[0mtup\u001b[0m\u001b[0;34m[\u001b[0m\u001b[0;34m-\u001b[0m\u001b[0;36m1\u001b[0m\u001b[0;34m]\u001b[0m\u001b[0;34m)\u001b[0m\u001b[0;34m\u001b[0m\u001b[0;34m\u001b[0m\u001b[0m\n\u001b[1;32m    369\u001b[0m \u001b[0;34m\u001b[0m\u001b[0m\n\u001b[0;32m--> 370\u001b[0;31m         \u001b[0mx\u001b[0m\u001b[0;34m,\u001b[0m \u001b[0my\u001b[0m \u001b[0;34m=\u001b[0m \u001b[0mself\u001b[0m\u001b[0;34m.\u001b[0m\u001b[0m_xy_from_xy\u001b[0m\u001b[0;34m(\u001b[0m\u001b[0mx\u001b[0m\u001b[0;34m,\u001b[0m \u001b[0my\u001b[0m\u001b[0;34m)\u001b[0m\u001b[0;34m\u001b[0m\u001b[0;34m\u001b[0m\u001b[0m\n\u001b[0m\u001b[1;32m    371\u001b[0m \u001b[0;34m\u001b[0m\u001b[0m\n\u001b[1;32m    372\u001b[0m         \u001b[0;32mif\u001b[0m \u001b[0mself\u001b[0m\u001b[0;34m.\u001b[0m\u001b[0mcommand\u001b[0m \u001b[0;34m==\u001b[0m \u001b[0;34m'plot'\u001b[0m\u001b[0;34m:\u001b[0m\u001b[0;34m\u001b[0m\u001b[0;34m\u001b[0m\u001b[0m\n",
      "\u001b[0;32m~/miniconda3/envs/neuronfailure/lib/python3.6/site-packages/matplotlib/axes/_base.py\u001b[0m in \u001b[0;36m_xy_from_xy\u001b[0;34m(self, x, y)\u001b[0m\n\u001b[1;32m    229\u001b[0m         \u001b[0;32mif\u001b[0m \u001b[0mx\u001b[0m\u001b[0;34m.\u001b[0m\u001b[0mshape\u001b[0m\u001b[0;34m[\u001b[0m\u001b[0;36m0\u001b[0m\u001b[0;34m]\u001b[0m \u001b[0;34m!=\u001b[0m \u001b[0my\u001b[0m\u001b[0;34m.\u001b[0m\u001b[0mshape\u001b[0m\u001b[0;34m[\u001b[0m\u001b[0;36m0\u001b[0m\u001b[0;34m]\u001b[0m\u001b[0;34m:\u001b[0m\u001b[0;34m\u001b[0m\u001b[0;34m\u001b[0m\u001b[0m\n\u001b[1;32m    230\u001b[0m             raise ValueError(\"x and y must have same first dimension, but \"\n\u001b[0;32m--> 231\u001b[0;31m                              \"have shapes {} and {}\".format(x.shape, y.shape))\n\u001b[0m\u001b[1;32m    232\u001b[0m         \u001b[0;32mif\u001b[0m \u001b[0mx\u001b[0m\u001b[0;34m.\u001b[0m\u001b[0mndim\u001b[0m \u001b[0;34m>\u001b[0m \u001b[0;36m2\u001b[0m \u001b[0;32mor\u001b[0m \u001b[0my\u001b[0m\u001b[0;34m.\u001b[0m\u001b[0mndim\u001b[0m \u001b[0;34m>\u001b[0m \u001b[0;36m2\u001b[0m\u001b[0;34m:\u001b[0m\u001b[0;34m\u001b[0m\u001b[0;34m\u001b[0m\u001b[0m\n\u001b[1;32m    233\u001b[0m             raise ValueError(\"x and y can be no greater than 2-D, but have \"\n",
      "\u001b[0;31mValueError\u001b[0m: x and y must have same first dimension, but have shapes (8,) and (7,)"
     ]
    },
    {
     "data": {
      "image/png": "[encoded data removed]",
      "text/plain": [
       "<Figure size 432x288 with 1 Axes>"
      ]
     },
     "metadata": {
      "needs_background": "light"
     },
     "output_type": "display_data"
    }
   ],
   "source": [
    "for eta in etas:\n",
    "    for b in batches:\n",
    "        for e in epochs:\n",
    "            fs = [[get_file(eta = eta, rho = 0.0, mu = mu, epochs = e,\n",
    "                           train_batch_size = b, iteration = rounds)\n",
    "                   for rounds in range(5)] for mu in mus]\n",
    "            #print(fs[0])\n",
    "            process_files(rhos, 'mu', fs)"
   ]
  },
  {
   "cell_type": "code",
   "execution_count": 351,
   "metadata": {},
   "outputs": [
    {
     "ename": "SyntaxError",
     "evalue": "unexpected EOF while parsing (<string>, line 0)",
     "output_type": "error",
     "traceback": [
      "Traceback \u001b[0;36m(most recent call last)\u001b[0m:\n",
      "  File \u001b[1;32m\"/localhome/volodin/miniconda3/envs/neuronfailure/lib/python3.6/site-packages/IPython/core/interactiveshell.py\"\u001b[0m, line \u001b[1;32m3265\u001b[0m, in \u001b[1;35mrun_code\u001b[0m\n    exec(code_obj, self.user_global_ns, self.user_ns)\n",
      "\u001b[0;36m  File \u001b[0;32m\"<ipython-input-351-10bde046575c>\"\u001b[0;36m, line \u001b[0;32m1\u001b[0;36m, in \u001b[0;35m<module>\u001b[0;36m\u001b[0m\n\u001b[0;31m    eval('')\u001b[0m\n",
      "\u001b[0;36m  File \u001b[0;32m\"<string>\"\u001b[0;36m, line \u001b[0;32munknown\u001b[0m\n\u001b[0;31m    \u001b[0m\n\u001b[0m    ^\u001b[0m\n\u001b[0;31mSyntaxError\u001b[0m\u001b[0;31m:\u001b[0m unexpected EOF while parsing\n"
     ]
    }
   ],
   "source": [
    "eval('')"
   ]
  },
  {
   "cell_type": "code",
   "execution_count": null,
   "metadata": {},
   "outputs": [],
   "source": []
  }
 ],
 "metadata": {
  "kernelspec": {
   "display_name": "Python 3",
   "language": "python",
   "name": "python3"
  },
  "language_info": {
   "codemirror_mode": {
    "name": "ipython",
    "version": 3
   },
   "file_extension": ".py",
   "mimetype": "text/x-python",
   "name": "python",
   "nbconvert_exporter": "python",
   "pygments_lexer": "ipython3",
   "version": "3.6.8"
  }
 },
 "nbformat": 4,
 "nbformat_minor": 2
}
