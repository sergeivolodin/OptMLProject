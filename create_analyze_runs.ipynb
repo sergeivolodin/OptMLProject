{
 "cells": [
  {
   "cell_type": "code",
   "execution_count": 71,
   "metadata": {},
   "outputs": [],
   "source": [
    "import numpy as np\n",
    "%matplotlib inline\n",
    "from matplotlib import pyplot as plt\n",
    "import os"
   ]
  },
  {
   "cell_type": "code",
   "execution_count": 101,
   "metadata": {},
   "outputs": [],
   "source": [
    "# SMALL setting\n",
    "common = {'image_side': 10, 'giveup': 100, 'accuracy_threshold': 0.0, 'repetitions': 1}\n",
    "parameters = [\n",
    "    {'optimizer': 'sgd', 'train_batch_size': 1000, 'learning_rate': 0.1, 'epochs': 100, **common},\n",
    "    {'optimizer': 'frankwolfe', 'train_batch_size': 1000, 'R': 100, 'p': 2, 'gamma': 0.01, 'ro': 0.6,\n",
    "     'epochs': 200, **common},\n",
    "    {'optimizer': 'adam', 'train_batch_size': 1000, 'learning_rate': 0.001, 'beta1': 0.9, 'beta2': 0.999, 'epsilon': 1e-08,\n",
    "     'epochs': 200, **common},\n",
    "]"
   ]
  },
  {
   "cell_type": "code",
   "execution_count": 57,
   "metadata": {},
   "outputs": [
    {
     "data": {
      "text/plain": [
       "[1, 2, 3, 4]"
      ]
     },
     "execution_count": 57,
     "metadata": {},
     "output_type": "execute_result"
    }
   ],
   "source": [
    "[1,2,3]+[4]"
   ]
  },
  {
   "cell_type": "code",
   "execution_count": 51,
   "metadata": {},
   "outputs": [],
   "source": [
    "# medium setting\n",
    "common = {'image_side': 10, 'giveup': 100, 'accuracy_threshold': 0, 'repetitions': 10}\n",
    "parameters = [\n",
    "    {'optimizer': 'sgd', 'train_batch_size': 1000, 'learning_rate': lr, 'epochs': 100, **common} for lr in [0.1, 0.01, 0.001, 0.0001]] + \\\n",
    "    [{'optimizer': 'frankwolfe', 'train_batch_size': 1000, 'R': 20, 'p': 2, 'gamma': 0.01, 'ro': 0.6,\n",
    "     'epochs': 500, **common} for gamma in np.linspace(0, 1, 3) for ro in np.linspace(0, 1, 3)] + \\\n",
    "    [{'optimizer': 'adam', 'train_batch_size': 1000, 'learning_rate': lr, 'beta1': 0.9, 'beta2': 0.999, 'epsilon': 1e-08,\n",
    "     'epochs': 200, **common} for lr in [0.1, 0.01, 0.001, 0.0001]]"
   ]
  },
  {
   "cell_type": "code",
   "execution_count": 59,
   "metadata": {},
   "outputs": [],
   "source": [
    "def print_nice(y):\n",
    "    if isinstance(y, float):\n",
    "        return str(round(y, 2))#'%.2g' % y\n",
    "    return str(y)"
   ]
  },
  {
   "cell_type": "code",
   "execution_count": 60,
   "metadata": {},
   "outputs": [],
   "source": [
    "def print_one(**kwargs):\n",
    "    print('python experiment.py ' + \" \".join(['--' + x + ' ' + print_nice(y) for x, y in kwargs.items()]) + ' &')"
   ]
  },
  {
   "cell_type": "code",
   "execution_count": null,
   "metadata": {},
   "outputs": [],
   "source": [
    "# arguments in the correct order\n",
    "\n",
    "f = open('experiment.py', 'r').readlines()\n",
    "\n",
    "args_in_order = []\n",
    "for l in f:\n",
    "    k = 'parser.add_argument(\\'--'\n",
    "    if l.startswith(k):\n",
    "        args_in_order.append(l[len(k):].split('\\'')[0])"
   ]
  },
  {
   "cell_type": "code",
   "execution_count": 96,
   "metadata": {},
   "outputs": [],
   "source": [
    "def get_file(**kwargs):\n",
    "    return (\"_\".join([x + '-' + print_nice(kwargs[x] if x in kwargs else None) for x in args_in_order])+'.output')"
   ]
  },
  {
   "cell_type": "code",
   "execution_count": 97,
   "metadata": {
    "scrolled": true
   },
   "outputs": [
    {
     "name": "stdout",
     "output_type": "stream",
     "text": [
      "python experiment.py --optimizer sgd --train_batch_size 1000 --learning_rate 0.1 --epochs 100 --image_side 10 --giveup 100 --accuracy_threshold 0 --repetitions 1 &\n",
      "python experiment.py --optimizer frankwolfe --train_batch_size 1000 --R 100 --p 2 --gamma 0.01 --ro 0.6 --epochs 200 --image_side 10 --giveup 100 --accuracy_threshold 0 --repetitions 1 &\n",
      "python experiment.py --optimizer adam --train_batch_size 1000 --learning_rate 0.0 --beta1 0.9 --beta2 1.0 --epsilon 0.0 --epochs 200 --image_side 10 --giveup 100 --accuracy_threshold 0 --repetitions 1 &\n",
      "Total runs:  3\n",
      "Total time:  0.5\n"
     ]
    }
   ],
   "source": [
    "for params in parameters:\n",
    "    print_one(**params)\n",
    "it = len(parameters)\n",
    "print('Total runs: ', it)\n",
    "print('Total time: ', it / 6)"
   ]
  },
  {
   "cell_type": "code",
   "execution_count": 106,
   "metadata": {},
   "outputs": [],
   "source": [
    "def arr_of_dicts_to_dict_of_arrays(arr):\n",
    "    all_keys = arr[0].keys()\n",
    "    return {key: [v[key] for v in arr] for key in all_keys}"
   ]
  },
  {
   "cell_type": "code",
   "execution_count": 133,
   "metadata": {},
   "outputs": [],
   "source": [
    "def process_dict(d, do_plot = True):\n",
    "    d0 = d\n",
    "    d = arr_of_dicts_to_dict_of_arrays(d)\n",
    "    metrics = d\n",
    "    #print(metrics)\n",
    "    name = '0'\n",
    "    if do_plot:\n",
    "        \n",
    "        fig, ax1 = plt.subplots()\n",
    "        ax2 = ax1.twinx()\n",
    "        \n",
    "        ax1.set_xlabel('epochs')\n",
    "        ax1.set_ylabel('loss', color='b')\n",
    "        ax1.tick_params('y', colors='b')\n",
    "        \n",
    "        ax2.set_ylabel('accuracy', color='r')\n",
    "        ax2.tick_params('y', colors='r')\n",
    "        \n",
    "        for i in range(len(d0)):\n",
    "            ax1.plot(metrics['train_loss'][i], label = 'train_loss')\n",
    "            ax1.plot(metrics['test_loss'][i], label = 'test_loss')\n",
    "\n",
    "\n",
    "            ax2.plot(metrics['train_acc'][i], label = 'train_acc')\n",
    "            ax2.plot(metrics['train_acc'][i], label = 'train_acc')\n",
    "\n",
    "        fig.tight_layout()\n",
    "        fig.legend()\n",
    "        plt.savefig('figures/' + name + '.eps', bbox_inches = 'tight')\n",
    "        plt.show()\n",
    "\n",
    "    return d"
   ]
  },
  {
   "cell_type": "code",
   "execution_count": 134,
   "metadata": {},
   "outputs": [],
   "source": [
    "def process_file(f):\n",
    "    if not os.path.isfile(f):\n",
    "        print('File ' + f + ' missing')\n",
    "        return\n",
    "    f = open(f, 'r').read()\n",
    "    if f.startswith('Nothing['):\n",
    "        print('File ' + f + \" is empty\")\n",
    "        return\n",
    "    d = eval(f)\n",
    "    return process_dict(d)\n",
    "    #return d"
   ]
  },
  {
   "cell_type": "code",
   "execution_count": 137,
   "metadata": {
    "scrolled": true
   },
   "outputs": [
    {
     "name": "stdout",
     "output_type": "stream",
     "text": [
      "{'optimizer': 'sgd', 'train_batch_size': 1000, 'learning_rate': 0.1, 'epochs': 100, 'image_side': 10, 'giveup': 100, 'accuracy_threshold': 0.0, 'repetitions': 1}\n"
     ]
    },
    {
     "data": {
      "image/png": "[encoded data removed]",
      "text/plain": [
       "<Figure size 432x288 with 2 Axes>"
      ]
     },
     "metadata": {
      "needs_background": "light"
     },
     "output_type": "display_data"
    },
    {
     "name": "stdout",
     "output_type": "stream",
     "text": [
      "{'optimizer': 'frankwolfe', 'train_batch_size': 1000, 'R': 100, 'p': 2, 'gamma': 0.01, 'ro': 0.6, 'epochs': 200, 'image_side': 10, 'giveup': 100, 'accuracy_threshold': 0.0, 'repetitions': 1}\n",
      "File optimizer-frankwolfe_image_side-10_giveup-100_accuracy_threshold-0.0_epochs-200_repetitions-1_train_batch_size-1000_R-100_gamma-0.01_p-2_ro-0.6_learning_rate-None_beta1-None_beta2-None_epsilon-None.output missing\n",
      "{'optimizer': 'adam', 'train_batch_size': 1000, 'learning_rate': 0.001, 'beta1': 0.9, 'beta2': 0.999, 'epsilon': 1e-08, 'epochs': 200, 'image_side': 10, 'giveup': 100, 'accuracy_threshold': 0.0, 'repetitions': 1}\n"
     ]
    }
   ],
   "source": [
    "for param in parameters:\n",
    "    print(param)\n",
    "    fs = [process_file(get_file(**param))]"
   ]
  },
  {
   "cell_type": "code",
   "execution_count": null,
   "metadata": {},
   "outputs": [],
   "source": []
  }
 ],
 "metadata": {
  "kernelspec": {
   "display_name": "Python 3",
   "language": "python",
   "name": "python3"
  },
  "language_info": {
   "codemirror_mode": {
    "name": "ipython",
    "version": 3
   },
   "file_extension": ".py",
   "mimetype": "text/x-python",
   "name": "python",
   "nbconvert_exporter": "python",
   "pygments_lexer": "ipython3",
   "version": "3.6.8"
  }
 },
 "nbformat": 4,
 "nbformat_minor": 2
}
