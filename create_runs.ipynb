{
 "cells": [
  {
   "cell_type": "code",
   "execution_count": 1,
   "metadata": {},
   "outputs": [],
   "source": [
    "import numpy as np"
   ]
  },
  {
   "cell_type": "code",
   "execution_count": 4,
   "metadata": {},
   "outputs": [],
   "source": [
    "etas = [0.1]\n",
    "batches = [256]\n",
    "epochs = [20]\n",
    "rhos = np.linspace(0, 1, 5)\n",
    "mus = np.linspace(0, 1, 5)"
   ]
  },
  {
   "cell_type": "code",
   "execution_count": 5,
   "metadata": {},
   "outputs": [
    {
     "data": {
      "text/plain": [
       "array([0.  , 0.25, 0.5 , 0.75, 1.  ])"
      ]
     },
     "execution_count": 5,
     "metadata": {},
     "output_type": "execute_result"
    }
   ],
   "source": [
    "rhos"
   ]
  },
  {
   "cell_type": "code",
   "execution_count": 15,
   "metadata": {},
   "outputs": [],
   "source": [
    "def print_one(**kwargs):\n",
    "    print('python experiment.py ' + \" \".join(['--' + x + ' ' + str(y) for x, y in kwargs.items()]) + ' &')"
   ]
  },
  {
   "cell_type": "code",
   "execution_count": 16,
   "metadata": {},
   "outputs": [
    {
     "name": "stdout",
     "output_type": "stream",
     "text": [
      "python experiment.py --aba caba --dd dd &\n"
     ]
    }
   ],
   "source": [
    "print_one(aba = 'caba', dd = 'dd')"
   ]
  },
  {
   "cell_type": "code",
   "execution_count": 17,
   "metadata": {},
   "outputs": [
    {
     "name": "stdout",
     "output_type": "stream",
     "text": [
      "python experiment.py --eta 0.1 --rho 0.0 --mu 0 --epochs 20 --train_batch_size 256 &\n",
      "python experiment.py --eta 0.1 --rho 0.25 --mu 0 --epochs 20 --train_batch_size 256 &\n",
      "python experiment.py --eta 0.1 --rho 0.5 --mu 0 --epochs 20 --train_batch_size 256 &\n",
      "python experiment.py --eta 0.1 --rho 0.75 --mu 0 --epochs 20 --train_batch_size 256 &\n",
      "python experiment.py --eta 0.1 --rho 1.0 --mu 0 --epochs 20 --train_batch_size 256 &\n",
      "python experiment.py --eta 0.1 --rho 0 --mu 0.0 --epochs 20 --train_batch_size 256 &\n",
      "python experiment.py --eta 0.1 --rho 0 --mu 0.25 --epochs 20 --train_batch_size 256 &\n",
      "python experiment.py --eta 0.1 --rho 0 --mu 0.5 --epochs 20 --train_batch_size 256 &\n",
      "python experiment.py --eta 0.1 --rho 0 --mu 0.75 --epochs 20 --train_batch_size 256 &\n",
      "python experiment.py --eta 0.1 --rho 0 --mu 1.0 --epochs 20 --train_batch_size 256 &\n"
     ]
    }
   ],
   "source": [
    "for eta in etas:\n",
    "    for b in batches:\n",
    "        for e in epochs:\n",
    "            for rho in rhos:\n",
    "                mu = 0\n",
    "                print_one(eta = eta, rho = rho, mu = mu, epochs = e, train_batch_size = b)\n",
    "            for mu in mus:\n",
    "                rho = 0\n",
    "                print_one(eta = eta, rho = rho, mu = mu, epochs = e, train_batch_size = b)"
   ]
  },
  {
   "cell_type": "code",
   "execution_count": null,
   "metadata": {},
   "outputs": [],
   "source": []
  }
 ],
 "metadata": {
  "kernelspec": {
   "display_name": "Python 3",
   "language": "python",
   "name": "python3"
  },
  "language_info": {
   "codemirror_mode": {
    "name": "ipython",
    "version": 3
   },
   "file_extension": ".py",
   "mimetype": "text/x-python",
   "name": "python",
   "nbconvert_exporter": "python",
   "pygments_lexer": "ipython3",
   "version": "3.6.8"
  }
 },
 "nbformat": 4,
 "nbformat_minor": 2
}
